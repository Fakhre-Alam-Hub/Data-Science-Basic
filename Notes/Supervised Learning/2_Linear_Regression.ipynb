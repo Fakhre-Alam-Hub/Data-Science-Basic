{
  "nbformat": 4,
  "nbformat_minor": 0,
  "metadata": {
    "colab": {
      "name": "Linear Regression.ipynb",
      "provenance": [],
      "mount_file_id": "1W1UdErHLbHO4XTvWbICGX5MM_mdyxV3d",
      "authorship_tag": "ABX9TyNx0RD9ECiCgsezWgJucipx",
      "include_colab_link": true
    },
    "kernelspec": {
      "name": "python3",
      "display_name": "Python 3"
    },
    "language_info": {
      "name": "python"
    }
  },
  "cells": [
    {
      "cell_type": "markdown",
      "metadata": {
        "id": "view-in-github",
        "colab_type": "text"
      },
      "source": [
        "<a href=\"https://colab.research.google.com/github/Fakhre-Alam-Hub/Data-Science-Basic/blob/master/Notes/2_Linear_Regression.ipynb\" target=\"_parent\"><img src=\"https://colab.research.google.com/assets/colab-badge.svg\" alt=\"Open In Colab\"/></a>"
      ]
    },
    {
      "cell_type": "markdown",
      "metadata": {
        "id": "wAL9jagF7lgb"
      },
      "source": [
        "# <center>Linear Regression</center>"
      ]
    },
    {
      "cell_type": "markdown",
      "metadata": {
        "id": "Pfmxxj8e8DSE"
      },
      "source": [
        "# Simple Linear Regression\n",
        "\n",
        "It assumes that there is a linear relationship between X and Y\n",
        "\n",
        "#### Model Equation\n",
        "\n",
        "$Y = \\beta_0 + \\beta_1X + \\epsilon$\n",
        "\n",
        "$\\beta_0$ is known as intercept\n",
        "\n",
        "$\\beta_1$ is known as slope\n",
        "\n",
        "$\\epsilon$ is known as error term with mean zero\n",
        "\n",
        "Together $\\beta_0$ and $\\beta_1$ known as model coefficient or parameters \n",
        "\n",
        "From our training data we will get $\\hat{\\beta_0}$ and $\\hat{\\beta_1}$, and known as estimated parameter from our data.\n",
        "\n",
        "After training: $\\hat{Y} = \\hat{\\beta_0} + \\hat{\\beta_1}X$\n",
        "\n",
        "Our goal is to obtain coefficient estimate $\\hat{\\beta_0}$ and $\\hat{\\beta_1}$ such that the linear model fits the available data well\n",
        "\n",
        "#### Residual:\n",
        "Difference between predicted response and actual response is known as residual.\n",
        "\n",
        "$e_i = y_i - \\hat{y_i}$\n",
        "\n",
        "Since there may be +ve and -ve residual, which cancel out the resultant there for we introduce Resudual Sum Squares.\n",
        "\n",
        "#### Resudual Sum of Squares(RSS):\n",
        "Sum of the residual\n",
        "\n",
        "RSS = $e_1^2+e_2^2+e_3^2...+e_n^2$\n",
        "\n",
        "#### Least Square:\n",
        "It is used to minimize the Resudual Sum Squares(RSS)\n",
        "\n",
        "The minimizer are\n",
        "\n",
        "$\\hat{\\beta_1} = \\frac{\\sum_{i=1}^n (x_i - \\bar{x})(y_i - \\bar{y})}{\\sum_{i=1}^n(x_i - \\bar{x})^2}$\n",
        "\n",
        "$\\hat{\\beta_0} = \\bar{y} - \\hat{\\beta_1}\\bar{x}$ \n",
        "\n",
        "#### Accessing the Accuracy\n",
        "\n",
        "**Standard Error:** How far off will the sample estimate that is $\\hat{\\beta_0}$ and $\\hat{\\beta_1}$ wil be from population coefficient, it is measured by Standard Error of $\\hat{\\beta_0}$ and $\\hat{\\beta_1}$\n",
        "\n",
        "Residual Standard Error(RSE) = $\\sqrt{\\frac{RSS}{(n-2)}}$\n",
        "\n",
        "For 95% Confidence Interval, There is approximately a 95% chance that the interval: [$\\hat{\\beta_1} - 2.RSE(\\hat{\\beta_1}), \\hat{\\beta_1} + 2.RSE(\\hat{\\beta_1})$] will contain the true value of $\\beta_1$\n",
        "\n",
        "**Hypotheis Testing:** Used to check is there any relationship between X and Y, in $Y = \\beta_0 + \\beta_1X$.\n",
        "\n",
        "If $\\beta_1$ is zero, this means there is no relationship.\n",
        "\n",
        "If $\\beta_1$ is non-zero:\n",
        "\n",
        "Decide the hypothesis\n",
        "\n",
        "* Null hypothesis ($H_0$): There is no relationship between X and Y\n",
        "        \n",
        "* Alternate hypothesis ($H_a$): There is some relationship between X and Y\n",
        "   \n",
        "* To disapprove $H_o$, we calculate t-statistics $t = \\frac{\\hat{\\beta_1}-0}{RSE(\\hat{\\beta_1})}$\n",
        "\n",
        "* We also calculate the probability of observing any value equal to |t| or larger\n",
        "\n",
        "* We call this probability the p-value\n",
        "\n",
        "* A small p-value (less than 5% or 1%) means there is an association between the predictor and the response\n",
        "\n",
        "#### Quality of Fit RSE:\n",
        "Can be assessed using two related quantities: first the Residual Standard Error(RSE) and the second is $R^2$ statistic\n",
        "\n",
        "**Residual Standard Error**\n",
        "\n",
        "RSE = $\\sqrt{\\frac{RSS}{(n-2)}}$\n",
        "* The RSE provides an absolute measure of lack of fit of the model to the data\n",
        "* RSE is the average amount that the response will deviate from the true regresssion line\n",
        "* RSE is also considered as measure of lack of fit of the model to the data\n",
        "\n",
        "**$R^2$**\n",
        "* $R^2$ is the proportion of variance explained\n",
        "* $R^2$ always take of values between 0 and 1\n",
        "* $R^2$ is independent of the scale of Y\n",
        "\n",
        "$R^2$ = 1-$\\frac{RSS}{TSS}$\n",
        "\n",
        "RSS = Residual Sum of Squares\n",
        "\n",
        "TSS = Total Sum of Squares\n",
        "\n",
        "**Adjusted $R^2$** \n",
        "\n",
        "* In adjusted **$R^2$** we will take account of total number of variable which are actually impacting the model\n",
        "* If number of variable increases, $R^2$ value simply keeps on increasing even if variable is not significantly related to the response variable, to counter this Adjusted $R^2$ is used \n",
        "* Adjusted $R^2$ value increases only if the new term improves the model more than expected by chance\n",
        "* Adjusted $R^2$ value decreases when the predicter improves the model by less than expected by chance\n",
        "* **Adjusted $R^2$ is prefered over $R^2$**"
      ]
    },
    {
      "cell_type": "markdown",
      "metadata": {
        "id": "C8qw0F9a8QFa"
      },
      "source": [
        "# Multiple Linear Regression\n",
        "\n",
        "In Multiple Linear Regression more than one predictor varibles are used to predict the response variable"
      ]
    },
    {
      "cell_type": "markdown",
      "metadata": {
        "id": "DbEmVpv48P6d"
      },
      "source": [
        "#### Model Equation\n",
        "\n",
        "$Y = \\beta_0 + \\beta_1X_1 + \\beta_2X_2 ... \\beta_pX_p + \\epsilon$\n",
        "\n",
        "$\\beta_0$ is known as intercept\n",
        "\n",
        "p is the numper of predictor\n",
        "\n",
        "$\\beta_1$ to $\\beta_p$ are coefficients\n",
        "\n",
        "$\\epsilon$ is known as error term with mean zero\n",
        "\n",
        "#### F statistic\n",
        "* If number of variable is large, there is very high chance that one of the coefficiant is wrongly classified as model is significantly related to response variable\n",
        "\n",
        "* F statistic adjust for the number of predictor\n",
        "\n",
        "$F$ = $\\frac{(TSS - RSS)/p}{RSS/(n-p-1)}$\n"
      ]
    },
    {
      "cell_type": "markdown",
      "metadata": {
        "id": "zaSoTDJN8Ptu"
      },
      "source": [
        "### Test-Train Split Techniques\n",
        "\n",
        "**Validation Set Approach**\n",
        "* Random division of data into two parts\n",
        "* Usaual split is 80:20 [Training:Test]\n",
        "\n",
        "**Leave one out cross validation**\n",
        "* Leave one observation every time from training set\n",
        "\n",
        "**K-Fold Validation**\n",
        "* Divide the data into k set\n",
        "* We will keep one for testing and k-1 for training"
      ]
    },
    {
      "cell_type": "markdown",
      "metadata": {
        "id": "Ab4U1QSa8PiB"
      },
      "source": [
        "### Bias-Variance Trade-Off\n",
        "\n",
        "Expected test Error = E(Bias) + E(Variance) + E($\\epsilon$)\n",
        "\n",
        "E($\\epsilon$): Variance of error, irreducible\n",
        "\n",
        "E(Variance): Amount by which predicted function will change if change training dataset\n",
        "\n",
        "E(Bias): Error due to approximation of complex relationship as simpler model such as linear model\n",
        "\n",
        "\n",
        "**More flexible more variance, low bias**\n",
        "\n",
        "**More flexible function has high variance on test data, it is due to overfitting of training data**\n",
        "\n",
        "**Challenge is to find that point where the sum of E(Variance) error and E(Bias) error is minimum**\n",
        "\n",
        "Prediction accuracy of least square method is good when the true relationship between predictor and response is approximately linear and we have lot of observation."
      ]
    },
    {
      "cell_type": "markdown",
      "metadata": {
        "id": "ly9oAf4R9Muy"
      },
      "source": [
        "## Other Linear models\n",
        "\n",
        "**Subset Selection**\n",
        "* Instead of training model on all the variable, we will be using a subset of available variables.\n",
        "    1. Best sunset selction\n",
        "    2. Forward step-wise selection\n",
        "    3. Backward step-wise selection\n",
        "\n",
        "**Shrinkage method**\n",
        "* We will try to regularize i.e. shrink the coefficient of some variables towards zero.\n",
        "    1. Ridge Regression\n",
        "    2. Lasso Regression\n",
        "    \n",
        "**Ridge Regression**\n",
        "\n",
        "* Ridge Regression makes model less flexible\n",
        " \n",
        "* In Ridge Regression, we will be trying to shrink the coefficient of variable towards zero by adding shrinkage penalty\n",
        "\n",
        "RSS = $\\sum_{i=1}^n(actual value - predicted value)^2 + \\lambda \\sum_{j=1}^p\\beta_j^2$\n",
        "\n",
        "Shrinkage penality --> $\\sum_{j=1}^p\\beta_j^2$\n",
        "\n",
        "Tuning parameter --> \\lambda \n",
        "\n",
        "**Standardization of values is required**\n",
        "\n",
        "**Disadvantage:** \n",
        "* It includes all p predictable variable in the final model\n",
        "* Coefficient shrink towards zero but they do not become zero\n",
        "\n",
        "**Lasso Regression**\n",
        "\n",
        "RSS = $\\sum_{i=1}^n(actual value - predicted value)^2 + \\lambda \\sum_{j=1}^p|\\beta_j|$\n",
        "\n",
        "* It does variable selection as it terns coefficient with less importance to zero"
      ]
    },
    {
      "cell_type": "code",
      "metadata": {
        "id": "HfW5z3h87TNz"
      },
      "source": [
        "import pandas as pd\n",
        "import numpy as np\n",
        "import seaborn as sns\n",
        "import matplotlib.pyplot as plt \n",
        "\n",
        "import warnings\n",
        "warnings.filterwarnings('ignore')"
      ],
      "execution_count": 1,
      "outputs": []
    },
    {
      "cell_type": "code",
      "metadata": {
        "colab": {
          "base_uri": "https://localhost:8080/",
          "height": 239
        },
        "id": "0tSMlk8v9eU8",
        "outputId": "8dbd5c7a-0495-4470-d77d-ad57ab74e1fa"
      },
      "source": [
        "df = pd.read_csv(\"/content/drive/MyDrive/Data Science Notes with Example/Data Files/1. ST Academy - Crash course and Regression files/House_Price_cleaned.csv\")\n",
        "df.head()"
      ],
      "execution_count": 2,
      "outputs": [
        {
          "output_type": "execute_result",
          "data": {
            "text/html": [
              "<div>\n",
              "<style scoped>\n",
              "    .dataframe tbody tr th:only-of-type {\n",
              "        vertical-align: middle;\n",
              "    }\n",
              "\n",
              "    .dataframe tbody tr th {\n",
              "        vertical-align: top;\n",
              "    }\n",
              "\n",
              "    .dataframe thead th {\n",
              "        text-align: right;\n",
              "    }\n",
              "</style>\n",
              "<table border=\"1\" class=\"dataframe\">\n",
              "  <thead>\n",
              "    <tr style=\"text-align: right;\">\n",
              "      <th></th>\n",
              "      <th>price</th>\n",
              "      <th>crime_rate</th>\n",
              "      <th>resid_area</th>\n",
              "      <th>air_qual</th>\n",
              "      <th>room_num</th>\n",
              "      <th>age</th>\n",
              "      <th>teachers</th>\n",
              "      <th>poor_prop</th>\n",
              "      <th>n_hos_beds</th>\n",
              "      <th>n_hot_rooms</th>\n",
              "      <th>rainfall</th>\n",
              "      <th>avg_dist</th>\n",
              "      <th>airport_YES</th>\n",
              "      <th>waterbody_Lake</th>\n",
              "      <th>waterbody_Lake and River</th>\n",
              "      <th>waterbody_River</th>\n",
              "    </tr>\n",
              "  </thead>\n",
              "  <tbody>\n",
              "    <tr>\n",
              "      <th>0</th>\n",
              "      <td>24.0</td>\n",
              "      <td>0.006300</td>\n",
              "      <td>32.31</td>\n",
              "      <td>0.538</td>\n",
              "      <td>6.575</td>\n",
              "      <td>65.2</td>\n",
              "      <td>24.7</td>\n",
              "      <td>4.98</td>\n",
              "      <td>5.480</td>\n",
              "      <td>11.19200</td>\n",
              "      <td>23</td>\n",
              "      <td>4.0875</td>\n",
              "      <td>1</td>\n",
              "      <td>0</td>\n",
              "      <td>0</td>\n",
              "      <td>1</td>\n",
              "    </tr>\n",
              "    <tr>\n",
              "      <th>1</th>\n",
              "      <td>21.6</td>\n",
              "      <td>0.026944</td>\n",
              "      <td>37.07</td>\n",
              "      <td>0.469</td>\n",
              "      <td>6.421</td>\n",
              "      <td>78.9</td>\n",
              "      <td>22.2</td>\n",
              "      <td>9.14</td>\n",
              "      <td>7.332</td>\n",
              "      <td>12.17280</td>\n",
              "      <td>42</td>\n",
              "      <td>4.9675</td>\n",
              "      <td>0</td>\n",
              "      <td>1</td>\n",
              "      <td>0</td>\n",
              "      <td>0</td>\n",
              "    </tr>\n",
              "    <tr>\n",
              "      <th>2</th>\n",
              "      <td>34.7</td>\n",
              "      <td>0.026924</td>\n",
              "      <td>37.07</td>\n",
              "      <td>0.469</td>\n",
              "      <td>7.185</td>\n",
              "      <td>61.1</td>\n",
              "      <td>22.2</td>\n",
              "      <td>4.03</td>\n",
              "      <td>7.394</td>\n",
              "      <td>46.19856</td>\n",
              "      <td>38</td>\n",
              "      <td>4.9675</td>\n",
              "      <td>0</td>\n",
              "      <td>0</td>\n",
              "      <td>0</td>\n",
              "      <td>0</td>\n",
              "    </tr>\n",
              "    <tr>\n",
              "      <th>3</th>\n",
              "      <td>33.4</td>\n",
              "      <td>0.031857</td>\n",
              "      <td>32.18</td>\n",
              "      <td>0.458</td>\n",
              "      <td>6.998</td>\n",
              "      <td>45.8</td>\n",
              "      <td>21.3</td>\n",
              "      <td>2.94</td>\n",
              "      <td>9.268</td>\n",
              "      <td>11.26720</td>\n",
              "      <td>45</td>\n",
              "      <td>6.0650</td>\n",
              "      <td>1</td>\n",
              "      <td>1</td>\n",
              "      <td>0</td>\n",
              "      <td>0</td>\n",
              "    </tr>\n",
              "    <tr>\n",
              "      <th>4</th>\n",
              "      <td>36.2</td>\n",
              "      <td>0.066770</td>\n",
              "      <td>32.18</td>\n",
              "      <td>0.458</td>\n",
              "      <td>7.147</td>\n",
              "      <td>54.2</td>\n",
              "      <td>21.3</td>\n",
              "      <td>5.33</td>\n",
              "      <td>8.824</td>\n",
              "      <td>11.28960</td>\n",
              "      <td>55</td>\n",
              "      <td>6.0625</td>\n",
              "      <td>0</td>\n",
              "      <td>1</td>\n",
              "      <td>0</td>\n",
              "      <td>0</td>\n",
              "    </tr>\n",
              "  </tbody>\n",
              "</table>\n",
              "</div>"
            ],
            "text/plain": [
              "   price  crime_rate  ...  waterbody_Lake and River  waterbody_River\n",
              "0   24.0    0.006300  ...                         0                1\n",
              "1   21.6    0.026944  ...                         0                0\n",
              "2   34.7    0.026924  ...                         0                0\n",
              "3   33.4    0.031857  ...                         0                0\n",
              "4   36.2    0.066770  ...                         0                0\n",
              "\n",
              "[5 rows x 16 columns]"
            ]
          },
          "metadata": {
            "tags": []
          },
          "execution_count": 2
        }
      ]
    },
    {
      "cell_type": "markdown",
      "metadata": {
        "id": "FX-v1w5b96TR"
      },
      "source": [
        "## Simple Linear Regression"
      ]
    },
    {
      "cell_type": "code",
      "metadata": {
        "id": "7bOv7X499x2U"
      },
      "source": [
        "import statsmodels.api as sn"
      ],
      "execution_count": 3,
      "outputs": []
    },
    {
      "cell_type": "code",
      "metadata": {
        "id": "esVIsg2Z-BbD"
      },
      "source": [
        "# to add constannt(beta_0) variable for simple linear regression\n",
        "X = sn.add_constant(df['room_num'])"
      ],
      "execution_count": 4,
      "outputs": []
    },
    {
      "cell_type": "code",
      "metadata": {
        "colab": {
          "base_uri": "https://localhost:8080/",
          "height": 202
        },
        "id": "Nnef2tVM-FNJ",
        "outputId": "6fa5614e-8ea7-4fa9-e4f5-e42059b0e96a"
      },
      "source": [
        "X.head()"
      ],
      "execution_count": 5,
      "outputs": [
        {
          "output_type": "execute_result",
          "data": {
            "text/html": [
              "<div>\n",
              "<style scoped>\n",
              "    .dataframe tbody tr th:only-of-type {\n",
              "        vertical-align: middle;\n",
              "    }\n",
              "\n",
              "    .dataframe tbody tr th {\n",
              "        vertical-align: top;\n",
              "    }\n",
              "\n",
              "    .dataframe thead th {\n",
              "        text-align: right;\n",
              "    }\n",
              "</style>\n",
              "<table border=\"1\" class=\"dataframe\">\n",
              "  <thead>\n",
              "    <tr style=\"text-align: right;\">\n",
              "      <th></th>\n",
              "      <th>const</th>\n",
              "      <th>room_num</th>\n",
              "    </tr>\n",
              "  </thead>\n",
              "  <tbody>\n",
              "    <tr>\n",
              "      <th>0</th>\n",
              "      <td>1.0</td>\n",
              "      <td>6.575</td>\n",
              "    </tr>\n",
              "    <tr>\n",
              "      <th>1</th>\n",
              "      <td>1.0</td>\n",
              "      <td>6.421</td>\n",
              "    </tr>\n",
              "    <tr>\n",
              "      <th>2</th>\n",
              "      <td>1.0</td>\n",
              "      <td>7.185</td>\n",
              "    </tr>\n",
              "    <tr>\n",
              "      <th>3</th>\n",
              "      <td>1.0</td>\n",
              "      <td>6.998</td>\n",
              "    </tr>\n",
              "    <tr>\n",
              "      <th>4</th>\n",
              "      <td>1.0</td>\n",
              "      <td>7.147</td>\n",
              "    </tr>\n",
              "  </tbody>\n",
              "</table>\n",
              "</div>"
            ],
            "text/plain": [
              "   const  room_num\n",
              "0    1.0     6.575\n",
              "1    1.0     6.421\n",
              "2    1.0     7.185\n",
              "3    1.0     6.998\n",
              "4    1.0     7.147"
            ]
          },
          "metadata": {
            "tags": []
          },
          "execution_count": 5
        }
      ]
    },
    {
      "cell_type": "code",
      "metadata": {
        "id": "OHuHmIf_-F03"
      },
      "source": [
        "lm = sn.OLS(df['price'],X).fit()"
      ],
      "execution_count": 6,
      "outputs": []
    },
    {
      "cell_type": "code",
      "metadata": {
        "colab": {
          "base_uri": "https://localhost:8080/",
          "height": 441
        },
        "id": "yMwEoWBY-LeB",
        "outputId": "470736a4-6be8-4b72-d007-26ef5d385c24"
      },
      "source": [
        "lm.summary()"
      ],
      "execution_count": 7,
      "outputs": [
        {
          "output_type": "execute_result",
          "data": {
            "text/html": [
              "<table class=\"simpletable\">\n",
              "<caption>OLS Regression Results</caption>\n",
              "<tr>\n",
              "  <th>Dep. Variable:</th>          <td>price</td>      <th>  R-squared:         </th> <td>   0.485</td>\n",
              "</tr>\n",
              "<tr>\n",
              "  <th>Model:</th>                   <td>OLS</td>       <th>  Adj. R-squared:    </th> <td>   0.484</td>\n",
              "</tr>\n",
              "<tr>\n",
              "  <th>Method:</th>             <td>Least Squares</td>  <th>  F-statistic:       </th> <td>   474.3</td>\n",
              "</tr>\n",
              "<tr>\n",
              "  <th>Date:</th>             <td>Mon, 07 Jun 2021</td> <th>  Prob (F-statistic):</th> <td>1.31e-74</td>\n",
              "</tr>\n",
              "<tr>\n",
              "  <th>Time:</th>                 <td>10:16:08</td>     <th>  Log-Likelihood:    </th> <td> -1671.6</td>\n",
              "</tr>\n",
              "<tr>\n",
              "  <th>No. Observations:</th>      <td>   506</td>      <th>  AIC:               </th> <td>   3347.</td>\n",
              "</tr>\n",
              "<tr>\n",
              "  <th>Df Residuals:</th>          <td>   504</td>      <th>  BIC:               </th> <td>   3356.</td>\n",
              "</tr>\n",
              "<tr>\n",
              "  <th>Df Model:</th>              <td>     1</td>      <th>                     </th>     <td> </td>   \n",
              "</tr>\n",
              "<tr>\n",
              "  <th>Covariance Type:</th>      <td>nonrobust</td>    <th>                     </th>     <td> </td>   \n",
              "</tr>\n",
              "</table>\n",
              "<table class=\"simpletable\">\n",
              "<tr>\n",
              "      <td></td>        <th>coef</th>     <th>std err</th>      <th>t</th>      <th>P>|t|</th>  <th>[0.025</th>    <th>0.975]</th>  \n",
              "</tr>\n",
              "<tr>\n",
              "  <th>const</th>    <td>  -34.6592</td> <td>    2.642</td> <td>  -13.118</td> <td> 0.000</td> <td>  -39.850</td> <td>  -29.468</td>\n",
              "</tr>\n",
              "<tr>\n",
              "  <th>room_num</th> <td>    9.0997</td> <td>    0.418</td> <td>   21.779</td> <td> 0.000</td> <td>    8.279</td> <td>    9.921</td>\n",
              "</tr>\n",
              "</table>\n",
              "<table class=\"simpletable\">\n",
              "<tr>\n",
              "  <th>Omnibus:</th>       <td>103.753</td> <th>  Durbin-Watson:     </th> <td>   0.681</td> \n",
              "</tr>\n",
              "<tr>\n",
              "  <th>Prob(Omnibus):</th> <td> 0.000</td>  <th>  Jarque-Bera (JB):  </th> <td> 633.429</td> \n",
              "</tr>\n",
              "<tr>\n",
              "  <th>Skew:</th>          <td> 0.729</td>  <th>  Prob(JB):          </th> <td>2.84e-138</td>\n",
              "</tr>\n",
              "<tr>\n",
              "  <th>Kurtosis:</th>      <td> 8.284</td>  <th>  Cond. No.          </th> <td>    58.4</td> \n",
              "</tr>\n",
              "</table><br/><br/>Warnings:<br/>[1] Standard Errors assume that the covariance matrix of the errors is correctly specified."
            ],
            "text/plain": [
              "<class 'statsmodels.iolib.summary.Summary'>\n",
              "\"\"\"\n",
              "                            OLS Regression Results                            \n",
              "==============================================================================\n",
              "Dep. Variable:                  price   R-squared:                       0.485\n",
              "Model:                            OLS   Adj. R-squared:                  0.484\n",
              "Method:                 Least Squares   F-statistic:                     474.3\n",
              "Date:                Mon, 07 Jun 2021   Prob (F-statistic):           1.31e-74\n",
              "Time:                        10:16:08   Log-Likelihood:                -1671.6\n",
              "No. Observations:                 506   AIC:                             3347.\n",
              "Df Residuals:                     504   BIC:                             3356.\n",
              "Df Model:                           1                                         \n",
              "Covariance Type:            nonrobust                                         \n",
              "==============================================================================\n",
              "                 coef    std err          t      P>|t|      [0.025      0.975]\n",
              "------------------------------------------------------------------------------\n",
              "const        -34.6592      2.642    -13.118      0.000     -39.850     -29.468\n",
              "room_num       9.0997      0.418     21.779      0.000       8.279       9.921\n",
              "==============================================================================\n",
              "Omnibus:                      103.753   Durbin-Watson:                   0.681\n",
              "Prob(Omnibus):                  0.000   Jarque-Bera (JB):              633.429\n",
              "Skew:                           0.729   Prob(JB):                    2.84e-138\n",
              "Kurtosis:                       8.284   Cond. No.                         58.4\n",
              "==============================================================================\n",
              "\n",
              "Warnings:\n",
              "[1] Standard Errors assume that the covariance matrix of the errors is correctly specified.\n",
              "\"\"\""
            ]
          },
          "metadata": {
            "tags": []
          },
          "execution_count": 7
        }
      ]
    },
    {
      "cell_type": "code",
      "metadata": {
        "id": "cJufj_sG-PE0"
      },
      "source": [
        "# using sk-learn library\n",
        "from sklearn.linear_model import LinearRegression"
      ],
      "execution_count": 8,
      "outputs": []
    },
    {
      "cell_type": "code",
      "metadata": {
        "id": "FlErQpRy-WTc"
      },
      "source": [
        "lm2 = LinearRegression()"
      ],
      "execution_count": 9,
      "outputs": []
    },
    {
      "cell_type": "code",
      "metadata": {
        "id": "HP5rdJ7a-Wvp"
      },
      "source": [
        "y = df['price']\n",
        "X = df[['room_num']]"
      ],
      "execution_count": 10,
      "outputs": []
    },
    {
      "cell_type": "code",
      "metadata": {
        "colab": {
          "base_uri": "https://localhost:8080/"
        },
        "id": "Hug_f4eB-ZRk",
        "outputId": "8d3421fd-9497-4e73-fb24-9f999f12b8bd"
      },
      "source": [
        "lm2.fit(X,y)"
      ],
      "execution_count": 11,
      "outputs": [
        {
          "output_type": "execute_result",
          "data": {
            "text/plain": [
              "LinearRegression(copy_X=True, fit_intercept=True, n_jobs=None, normalize=False)"
            ]
          },
          "metadata": {
            "tags": []
          },
          "execution_count": 11
        }
      ]
    },
    {
      "cell_type": "code",
      "metadata": {
        "colab": {
          "base_uri": "https://localhost:8080/"
        },
        "id": "n3ATqlXK-c89",
        "outputId": "2e0476ee-10fd-470b-d67e-e2c572db0421"
      },
      "source": [
        "print(\"Intercept(beta_0)\",lm2.intercept_,\"\\nCoefficient(beta_1)\",lm2.coef_)"
      ],
      "execution_count": 12,
      "outputs": [
        {
          "output_type": "stream",
          "text": [
            "Intercept(beta_0) -34.659243123097184 \n",
            "Coefficient(beta_1) [9.09966966]\n"
          ],
          "name": "stdout"
        }
      ]
    },
    {
      "cell_type": "markdown",
      "metadata": {
        "id": "BDK2Yw55-k-N"
      },
      "source": [
        "For increase in one unit of 'room_num' the 'price' will increase by 9.09966966(beta_1) unit"
      ]
    },
    {
      "cell_type": "code",
      "metadata": {
        "colab": {
          "base_uri": "https://localhost:8080/",
          "height": 459
        },
        "id": "C0vAiSUb-f3l",
        "outputId": "c7ce4bdd-9729-4105-ec1e-366a1dc0ef46"
      },
      "source": [
        "# best fit line on the data\n",
        "sns.jointplot(x=df['room_num'],y=df['price'],data=df,kind='reg')"
      ],
      "execution_count": 13,
      "outputs": [
        {
          "output_type": "execute_result",
          "data": {
            "text/plain": [
              "<seaborn.axisgrid.JointGrid at 0x7f095ddb2750>"
            ]
          },
          "metadata": {
            "tags": []
          },
          "execution_count": 13
        },
        {
          "output_type": "display_data",
          "data": {
            "image/png": "[encoded data removed]",
            "text/plain": [
              "<Figure size 432x432 with 3 Axes>"
            ]
          },
          "metadata": {
            "tags": [],
            "needs_background": "light"
          }
        }
      ]
    },
    {
      "cell_type": "markdown",
      "metadata": {
        "id": "hgnrKcDl-tEu"
      },
      "source": [
        "## Multiple Linear Regression"
      ]
    },
    {
      "cell_type": "code",
      "metadata": {
        "id": "mb8NwE2q-pbg"
      },
      "source": [
        "# using statsmodel\n",
        "import statsmodels.api as sn"
      ],
      "execution_count": 14,
      "outputs": []
    },
    {
      "cell_type": "code",
      "metadata": {
        "id": "aD17a9uq-wCO"
      },
      "source": [
        "X_multi = df.drop('price',axis=1)\n",
        "y_multi = df['price']"
      ],
      "execution_count": 15,
      "outputs": []
    },
    {
      "cell_type": "code",
      "metadata": {
        "colab": {
          "base_uri": "https://localhost:8080/",
          "height": 239
        },
        "id": "Rvv8enIi-yVx",
        "outputId": "8a523850-c774-4187-d014-3dc385990eef"
      },
      "source": [
        "X_multi.head()"
      ],
      "execution_count": 16,
      "outputs": [
        {
          "output_type": "execute_result",
          "data": {
            "text/html": [
              "<div>\n",
              "<style scoped>\n",
              "    .dataframe tbody tr th:only-of-type {\n",
              "        vertical-align: middle;\n",
              "    }\n",
              "\n",
              "    .dataframe tbody tr th {\n",
              "        vertical-align: top;\n",
              "    }\n",
              "\n",
              "    .dataframe thead th {\n",
              "        text-align: right;\n",
              "    }\n",
              "</style>\n",
              "<table border=\"1\" class=\"dataframe\">\n",
              "  <thead>\n",
              "    <tr style=\"text-align: right;\">\n",
              "      <th></th>\n",
              "      <th>crime_rate</th>\n",
              "      <th>resid_area</th>\n",
              "      <th>air_qual</th>\n",
              "      <th>room_num</th>\n",
              "      <th>age</th>\n",
              "      <th>teachers</th>\n",
              "      <th>poor_prop</th>\n",
              "      <th>n_hos_beds</th>\n",
              "      <th>n_hot_rooms</th>\n",
              "      <th>rainfall</th>\n",
              "      <th>avg_dist</th>\n",
              "      <th>airport_YES</th>\n",
              "      <th>waterbody_Lake</th>\n",
              "      <th>waterbody_Lake and River</th>\n",
              "      <th>waterbody_River</th>\n",
              "    </tr>\n",
              "  </thead>\n",
              "  <tbody>\n",
              "    <tr>\n",
              "      <th>0</th>\n",
              "      <td>0.006300</td>\n",
              "      <td>32.31</td>\n",
              "      <td>0.538</td>\n",
              "      <td>6.575</td>\n",
              "      <td>65.2</td>\n",
              "      <td>24.7</td>\n",
              "      <td>4.98</td>\n",
              "      <td>5.480</td>\n",
              "      <td>11.19200</td>\n",
              "      <td>23</td>\n",
              "      <td>4.0875</td>\n",
              "      <td>1</td>\n",
              "      <td>0</td>\n",
              "      <td>0</td>\n",
              "      <td>1</td>\n",
              "    </tr>\n",
              "    <tr>\n",
              "      <th>1</th>\n",
              "      <td>0.026944</td>\n",
              "      <td>37.07</td>\n",
              "      <td>0.469</td>\n",
              "      <td>6.421</td>\n",
              "      <td>78.9</td>\n",
              "      <td>22.2</td>\n",
              "      <td>9.14</td>\n",
              "      <td>7.332</td>\n",
              "      <td>12.17280</td>\n",
              "      <td>42</td>\n",
              "      <td>4.9675</td>\n",
              "      <td>0</td>\n",
              "      <td>1</td>\n",
              "      <td>0</td>\n",
              "      <td>0</td>\n",
              "    </tr>\n",
              "    <tr>\n",
              "      <th>2</th>\n",
              "      <td>0.026924</td>\n",
              "      <td>37.07</td>\n",
              "      <td>0.469</td>\n",
              "      <td>7.185</td>\n",
              "      <td>61.1</td>\n",
              "      <td>22.2</td>\n",
              "      <td>4.03</td>\n",
              "      <td>7.394</td>\n",
              "      <td>46.19856</td>\n",
              "      <td>38</td>\n",
              "      <td>4.9675</td>\n",
              "      <td>0</td>\n",
              "      <td>0</td>\n",
              "      <td>0</td>\n",
              "      <td>0</td>\n",
              "    </tr>\n",
              "    <tr>\n",
              "      <th>3</th>\n",
              "      <td>0.031857</td>\n",
              "      <td>32.18</td>\n",
              "      <td>0.458</td>\n",
              "      <td>6.998</td>\n",
              "      <td>45.8</td>\n",
              "      <td>21.3</td>\n",
              "      <td>2.94</td>\n",
              "      <td>9.268</td>\n",
              "      <td>11.26720</td>\n",
              "      <td>45</td>\n",
              "      <td>6.0650</td>\n",
              "      <td>1</td>\n",
              "      <td>1</td>\n",
              "      <td>0</td>\n",
              "      <td>0</td>\n",
              "    </tr>\n",
              "    <tr>\n",
              "      <th>4</th>\n",
              "      <td>0.066770</td>\n",
              "      <td>32.18</td>\n",
              "      <td>0.458</td>\n",
              "      <td>7.147</td>\n",
              "      <td>54.2</td>\n",
              "      <td>21.3</td>\n",
              "      <td>5.33</td>\n",
              "      <td>8.824</td>\n",
              "      <td>11.28960</td>\n",
              "      <td>55</td>\n",
              "      <td>6.0625</td>\n",
              "      <td>0</td>\n",
              "      <td>1</td>\n",
              "      <td>0</td>\n",
              "      <td>0</td>\n",
              "    </tr>\n",
              "  </tbody>\n",
              "</table>\n",
              "</div>"
            ],
            "text/plain": [
              "   crime_rate  resid_area  ...  waterbody_Lake and River  waterbody_River\n",
              "0    0.006300       32.31  ...                         0                1\n",
              "1    0.026944       37.07  ...                         0                0\n",
              "2    0.026924       37.07  ...                         0                0\n",
              "3    0.031857       32.18  ...                         0                0\n",
              "4    0.066770       32.18  ...                         0                0\n",
              "\n",
              "[5 rows x 15 columns]"
            ]
          },
          "metadata": {
            "tags": []
          },
          "execution_count": 16
        }
      ]
    },
    {
      "cell_type": "code",
      "metadata": {
        "colab": {
          "base_uri": "https://localhost:8080/",
          "height": 239
        },
        "id": "t-6Sn3gS-0UJ",
        "outputId": "de06ca89-dea3-4f34-c990-0fa09667378b"
      },
      "source": [
        "# to add constannt(beta_0) variable for simple linear regression\n",
        "X_multi = sn.add_constant(X_multi)\n",
        "X_multi.head()"
      ],
      "execution_count": 17,
      "outputs": [
        {
          "output_type": "execute_result",
          "data": {
            "text/html": [
              "<div>\n",
              "<style scoped>\n",
              "    .dataframe tbody tr th:only-of-type {\n",
              "        vertical-align: middle;\n",
              "    }\n",
              "\n",
              "    .dataframe tbody tr th {\n",
              "        vertical-align: top;\n",
              "    }\n",
              "\n",
              "    .dataframe thead th {\n",
              "        text-align: right;\n",
              "    }\n",
              "</style>\n",
              "<table border=\"1\" class=\"dataframe\">\n",
              "  <thead>\n",
              "    <tr style=\"text-align: right;\">\n",
              "      <th></th>\n",
              "      <th>const</th>\n",
              "      <th>crime_rate</th>\n",
              "      <th>resid_area</th>\n",
              "      <th>air_qual</th>\n",
              "      <th>room_num</th>\n",
              "      <th>age</th>\n",
              "      <th>teachers</th>\n",
              "      <th>poor_prop</th>\n",
              "      <th>n_hos_beds</th>\n",
              "      <th>n_hot_rooms</th>\n",
              "      <th>rainfall</th>\n",
              "      <th>avg_dist</th>\n",
              "      <th>airport_YES</th>\n",
              "      <th>waterbody_Lake</th>\n",
              "      <th>waterbody_Lake and River</th>\n",
              "      <th>waterbody_River</th>\n",
              "    </tr>\n",
              "  </thead>\n",
              "  <tbody>\n",
              "    <tr>\n",
              "      <th>0</th>\n",
              "      <td>1.0</td>\n",
              "      <td>0.006300</td>\n",
              "      <td>32.31</td>\n",
              "      <td>0.538</td>\n",
              "      <td>6.575</td>\n",
              "      <td>65.2</td>\n",
              "      <td>24.7</td>\n",
              "      <td>4.98</td>\n",
              "      <td>5.480</td>\n",
              "      <td>11.19200</td>\n",
              "      <td>23</td>\n",
              "      <td>4.0875</td>\n",
              "      <td>1</td>\n",
              "      <td>0</td>\n",
              "      <td>0</td>\n",
              "      <td>1</td>\n",
              "    </tr>\n",
              "    <tr>\n",
              "      <th>1</th>\n",
              "      <td>1.0</td>\n",
              "      <td>0.026944</td>\n",
              "      <td>37.07</td>\n",
              "      <td>0.469</td>\n",
              "      <td>6.421</td>\n",
              "      <td>78.9</td>\n",
              "      <td>22.2</td>\n",
              "      <td>9.14</td>\n",
              "      <td>7.332</td>\n",
              "      <td>12.17280</td>\n",
              "      <td>42</td>\n",
              "      <td>4.9675</td>\n",
              "      <td>0</td>\n",
              "      <td>1</td>\n",
              "      <td>0</td>\n",
              "      <td>0</td>\n",
              "    </tr>\n",
              "    <tr>\n",
              "      <th>2</th>\n",
              "      <td>1.0</td>\n",
              "      <td>0.026924</td>\n",
              "      <td>37.07</td>\n",
              "      <td>0.469</td>\n",
              "      <td>7.185</td>\n",
              "      <td>61.1</td>\n",
              "      <td>22.2</td>\n",
              "      <td>4.03</td>\n",
              "      <td>7.394</td>\n",
              "      <td>46.19856</td>\n",
              "      <td>38</td>\n",
              "      <td>4.9675</td>\n",
              "      <td>0</td>\n",
              "      <td>0</td>\n",
              "      <td>0</td>\n",
              "      <td>0</td>\n",
              "    </tr>\n",
              "    <tr>\n",
              "      <th>3</th>\n",
              "      <td>1.0</td>\n",
              "      <td>0.031857</td>\n",
              "      <td>32.18</td>\n",
              "      <td>0.458</td>\n",
              "      <td>6.998</td>\n",
              "      <td>45.8</td>\n",
              "      <td>21.3</td>\n",
              "      <td>2.94</td>\n",
              "      <td>9.268</td>\n",
              "      <td>11.26720</td>\n",
              "      <td>45</td>\n",
              "      <td>6.0650</td>\n",
              "      <td>1</td>\n",
              "      <td>1</td>\n",
              "      <td>0</td>\n",
              "      <td>0</td>\n",
              "    </tr>\n",
              "    <tr>\n",
              "      <th>4</th>\n",
              "      <td>1.0</td>\n",
              "      <td>0.066770</td>\n",
              "      <td>32.18</td>\n",
              "      <td>0.458</td>\n",
              "      <td>7.147</td>\n",
              "      <td>54.2</td>\n",
              "      <td>21.3</td>\n",
              "      <td>5.33</td>\n",
              "      <td>8.824</td>\n",
              "      <td>11.28960</td>\n",
              "      <td>55</td>\n",
              "      <td>6.0625</td>\n",
              "      <td>0</td>\n",
              "      <td>1</td>\n",
              "      <td>0</td>\n",
              "      <td>0</td>\n",
              "    </tr>\n",
              "  </tbody>\n",
              "</table>\n",
              "</div>"
            ],
            "text/plain": [
              "   const  crime_rate  ...  waterbody_Lake and River  waterbody_River\n",
              "0    1.0    0.006300  ...                         0                1\n",
              "1    1.0    0.026944  ...                         0                0\n",
              "2    1.0    0.026924  ...                         0                0\n",
              "3    1.0    0.031857  ...                         0                0\n",
              "4    1.0    0.066770  ...                         0                0\n",
              "\n",
              "[5 rows x 16 columns]"
            ]
          },
          "metadata": {
            "tags": []
          },
          "execution_count": 17
        }
      ]
    },
    {
      "cell_type": "code",
      "metadata": {
        "id": "MLEmLWTT-4LR"
      },
      "source": [
        "lm_multi = sn.OLS(y_multi,X_multi).fit()"
      ],
      "execution_count": 18,
      "outputs": []
    },
    {
      "cell_type": "code",
      "metadata": {
        "colab": {
          "base_uri": "https://localhost:8080/",
          "height": 765
        },
        "id": "iVvGyE9z-7WT",
        "outputId": "d8bdd109-0f53-4bfc-8ac3-86e922ad577e"
      },
      "source": [
        "lm_multi.summary()"
      ],
      "execution_count": 19,
      "outputs": [
        {
          "output_type": "execute_result",
          "data": {
            "text/html": [
              "<table class=\"simpletable\">\n",
              "<caption>OLS Regression Results</caption>\n",
              "<tr>\n",
              "  <th>Dep. Variable:</th>          <td>price</td>      <th>  R-squared:         </th> <td>   0.721</td> \n",
              "</tr>\n",
              "<tr>\n",
              "  <th>Model:</th>                   <td>OLS</td>       <th>  Adj. R-squared:    </th> <td>   0.712</td> \n",
              "</tr>\n",
              "<tr>\n",
              "  <th>Method:</th>             <td>Least Squares</td>  <th>  F-statistic:       </th> <td>   84.34</td> \n",
              "</tr>\n",
              "<tr>\n",
              "  <th>Date:</th>             <td>Mon, 07 Jun 2021</td> <th>  Prob (F-statistic):</th> <td>4.19e-125</td>\n",
              "</tr>\n",
              "<tr>\n",
              "  <th>Time:</th>                 <td>10:19:18</td>     <th>  Log-Likelihood:    </th> <td> -1516.6</td> \n",
              "</tr>\n",
              "<tr>\n",
              "  <th>No. Observations:</th>      <td>   506</td>      <th>  AIC:               </th> <td>   3065.</td> \n",
              "</tr>\n",
              "<tr>\n",
              "  <th>Df Residuals:</th>          <td>   490</td>      <th>  BIC:               </th> <td>   3133.</td> \n",
              "</tr>\n",
              "<tr>\n",
              "  <th>Df Model:</th>              <td>    15</td>      <th>                     </th>     <td> </td>    \n",
              "</tr>\n",
              "<tr>\n",
              "  <th>Covariance Type:</th>      <td>nonrobust</td>    <th>                     </th>     <td> </td>    \n",
              "</tr>\n",
              "</table>\n",
              "<table class=\"simpletable\">\n",
              "<tr>\n",
              "              <td></td>                <th>coef</th>     <th>std err</th>      <th>t</th>      <th>P>|t|</th>  <th>[0.025</th>    <th>0.975]</th>  \n",
              "</tr>\n",
              "<tr>\n",
              "  <th>const</th>                    <td>   -6.4986</td> <td>    5.264</td> <td>   -1.235</td> <td> 0.218</td> <td>  -16.842</td> <td>    3.844</td>\n",
              "</tr>\n",
              "<tr>\n",
              "  <th>crime_rate</th>               <td>    0.0097</td> <td>    0.348</td> <td>    0.028</td> <td> 0.978</td> <td>   -0.674</td> <td>    0.694</td>\n",
              "</tr>\n",
              "<tr>\n",
              "  <th>resid_area</th>               <td>   -0.0409</td> <td>    0.058</td> <td>   -0.710</td> <td> 0.478</td> <td>   -0.154</td> <td>    0.072</td>\n",
              "</tr>\n",
              "<tr>\n",
              "  <th>air_qual</th>                 <td>  -15.8974</td> <td>    4.004</td> <td>   -3.971</td> <td> 0.000</td> <td>  -23.764</td> <td>   -8.031</td>\n",
              "</tr>\n",
              "<tr>\n",
              "  <th>room_num</th>                 <td>    4.0190</td> <td>    0.427</td> <td>    9.421</td> <td> 0.000</td> <td>    3.181</td> <td>    4.857</td>\n",
              "</tr>\n",
              "<tr>\n",
              "  <th>age</th>                      <td>   -0.0057</td> <td>    0.014</td> <td>   -0.420</td> <td> 0.675</td> <td>   -0.032</td> <td>    0.021</td>\n",
              "</tr>\n",
              "<tr>\n",
              "  <th>teachers</th>                 <td>    1.0070</td> <td>    0.122</td> <td>    8.247</td> <td> 0.000</td> <td>    0.767</td> <td>    1.247</td>\n",
              "</tr>\n",
              "<tr>\n",
              "  <th>poor_prop</th>                <td>   -0.5773</td> <td>    0.053</td> <td>  -10.955</td> <td> 0.000</td> <td>   -0.681</td> <td>   -0.474</td>\n",
              "</tr>\n",
              "<tr>\n",
              "  <th>n_hos_beds</th>               <td>    0.3292</td> <td>    0.152</td> <td>    2.163</td> <td> 0.031</td> <td>    0.030</td> <td>    0.628</td>\n",
              "</tr>\n",
              "<tr>\n",
              "  <th>n_hot_rooms</th>              <td>    0.0919</td> <td>    0.082</td> <td>    1.118</td> <td> 0.264</td> <td>   -0.070</td> <td>    0.253</td>\n",
              "</tr>\n",
              "<tr>\n",
              "  <th>rainfall</th>                 <td>    0.0161</td> <td>    0.018</td> <td>    0.904</td> <td> 0.367</td> <td>   -0.019</td> <td>    0.051</td>\n",
              "</tr>\n",
              "<tr>\n",
              "  <th>avg_dist</th>                 <td>   -1.2186</td> <td>    0.189</td> <td>   -6.450</td> <td> 0.000</td> <td>   -1.590</td> <td>   -0.847</td>\n",
              "</tr>\n",
              "<tr>\n",
              "  <th>airport_YES</th>              <td>    1.1315</td> <td>    0.454</td> <td>    2.491</td> <td> 0.013</td> <td>    0.239</td> <td>    2.024</td>\n",
              "</tr>\n",
              "<tr>\n",
              "  <th>waterbody_Lake</th>           <td>    0.2641</td> <td>    0.642</td> <td>    0.411</td> <td> 0.681</td> <td>   -0.997</td> <td>    1.525</td>\n",
              "</tr>\n",
              "<tr>\n",
              "  <th>waterbody_Lake and River</th> <td>   -0.6876</td> <td>    0.714</td> <td>   -0.963</td> <td> 0.336</td> <td>   -2.090</td> <td>    0.715</td>\n",
              "</tr>\n",
              "<tr>\n",
              "  <th>waterbody_River</th>          <td>   -0.2913</td> <td>    0.547</td> <td>   -0.533</td> <td> 0.594</td> <td>   -1.365</td> <td>    0.783</td>\n",
              "</tr>\n",
              "</table>\n",
              "<table class=\"simpletable\">\n",
              "<tr>\n",
              "  <th>Omnibus:</th>       <td>182.596</td> <th>  Durbin-Watson:     </th> <td>   0.990</td> \n",
              "</tr>\n",
              "<tr>\n",
              "  <th>Prob(Omnibus):</th> <td> 0.000</td>  <th>  Jarque-Bera (JB):  </th> <td> 826.137</td> \n",
              "</tr>\n",
              "<tr>\n",
              "  <th>Skew:</th>          <td> 1.554</td>  <th>  Prob(JB):          </th> <td>4.04e-180</td>\n",
              "</tr>\n",
              "<tr>\n",
              "  <th>Kurtosis:</th>      <td> 8.434</td>  <th>  Cond. No.          </th> <td>2.37e+03</td> \n",
              "</tr>\n",
              "</table><br/><br/>Warnings:<br/>[1] Standard Errors assume that the covariance matrix of the errors is correctly specified.<br/>[2] The condition number is large, 2.37e+03. This might indicate that there are<br/>strong multicollinearity or other numerical problems."
            ],
            "text/plain": [
              "<class 'statsmodels.iolib.summary.Summary'>\n",
              "\"\"\"\n",
              "                            OLS Regression Results                            \n",
              "==============================================================================\n",
              "Dep. Variable:                  price   R-squared:                       0.721\n",
              "Model:                            OLS   Adj. R-squared:                  0.712\n",
              "Method:                 Least Squares   F-statistic:                     84.34\n",
              "Date:                Mon, 07 Jun 2021   Prob (F-statistic):          4.19e-125\n",
              "Time:                        10:19:18   Log-Likelihood:                -1516.6\n",
              "No. Observations:                 506   AIC:                             3065.\n",
              "Df Residuals:                     490   BIC:                             3133.\n",
              "Df Model:                          15                                         \n",
              "Covariance Type:            nonrobust                                         \n",
              "============================================================================================\n",
              "                               coef    std err          t      P>|t|      [0.025      0.975]\n",
              "--------------------------------------------------------------------------------------------\n",
              "const                       -6.4986      5.264     -1.235      0.218     -16.842       3.844\n",
              "crime_rate                   0.0097      0.348      0.028      0.978      -0.674       0.694\n",
              "resid_area                  -0.0409      0.058     -0.710      0.478      -0.154       0.072\n",
              "air_qual                   -15.8974      4.004     -3.971      0.000     -23.764      -8.031\n",
              "room_num                     4.0190      0.427      9.421      0.000       3.181       4.857\n",
              "age                         -0.0057      0.014     -0.420      0.675      -0.032       0.021\n",
              "teachers                     1.0070      0.122      8.247      0.000       0.767       1.247\n",
              "poor_prop                   -0.5773      0.053    -10.955      0.000      -0.681      -0.474\n",
              "n_hos_beds                   0.3292      0.152      2.163      0.031       0.030       0.628\n",
              "n_hot_rooms                  0.0919      0.082      1.118      0.264      -0.070       0.253\n",
              "rainfall                     0.0161      0.018      0.904      0.367      -0.019       0.051\n",
              "avg_dist                    -1.2186      0.189     -6.450      0.000      -1.590      -0.847\n",
              "airport_YES                  1.1315      0.454      2.491      0.013       0.239       2.024\n",
              "waterbody_Lake               0.2641      0.642      0.411      0.681      -0.997       1.525\n",
              "waterbody_Lake and River    -0.6876      0.714     -0.963      0.336      -2.090       0.715\n",
              "waterbody_River             -0.2913      0.547     -0.533      0.594      -1.365       0.783\n",
              "==============================================================================\n",
              "Omnibus:                      182.596   Durbin-Watson:                   0.990\n",
              "Prob(Omnibus):                  0.000   Jarque-Bera (JB):              826.137\n",
              "Skew:                           1.554   Prob(JB):                    4.04e-180\n",
              "Kurtosis:                       8.434   Cond. No.                     2.37e+03\n",
              "==============================================================================\n",
              "\n",
              "Warnings:\n",
              "[1] Standard Errors assume that the covariance matrix of the errors is correctly specified.\n",
              "[2] The condition number is large, 2.37e+03. This might indicate that there are\n",
              "strong multicollinearity or other numerical problems.\n",
              "\"\"\""
            ]
          },
          "metadata": {
            "tags": []
          },
          "execution_count": 19
        }
      ]
    },
    {
      "cell_type": "markdown",
      "metadata": {
        "id": "V3uRNN27_B3I"
      },
      "source": [
        "By observing Prob (F-statistic) which is less than 0.05 for 95% of confidence interval, it suggest that our independent variable has some impact on predicted variable"
      ]
    },
    {
      "cell_type": "code",
      "metadata": {
        "id": "wuES_yL4-9fX"
      },
      "source": [
        "# using sk-learn library\n",
        "from sklearn.linear_model import LinearRegression"
      ],
      "execution_count": 20,
      "outputs": []
    },
    {
      "cell_type": "code",
      "metadata": {
        "id": "YmKCx6Rt_Zpb"
      },
      "source": [
        "lm_multi_1 = LinearRegression()"
      ],
      "execution_count": 21,
      "outputs": []
    },
    {
      "cell_type": "code",
      "metadata": {
        "id": "fyrAAUrE_aLq"
      },
      "source": [
        "X_multi = df.drop('price',axis=1)\n",
        "y_multi = df['price']"
      ],
      "execution_count": 22,
      "outputs": []
    },
    {
      "cell_type": "code",
      "metadata": {
        "colab": {
          "base_uri": "https://localhost:8080/"
        },
        "id": "6HTMRicM_cad",
        "outputId": "37a6a6c5-cac0-43d8-be10-6557812dcb5c"
      },
      "source": [
        "lm_multi_1.fit(X_multi,y_multi)"
      ],
      "execution_count": 23,
      "outputs": [
        {
          "output_type": "execute_result",
          "data": {
            "text/plain": [
              "LinearRegression(copy_X=True, fit_intercept=True, n_jobs=None, normalize=False)"
            ]
          },
          "metadata": {
            "tags": []
          },
          "execution_count": 23
        }
      ]
    },
    {
      "cell_type": "code",
      "metadata": {
        "colab": {
          "base_uri": "https://localhost:8080/"
        },
        "id": "DyX3qymP_fCM",
        "outputId": "a6be989d-9621-4f3c-b6ce-fa7462059330"
      },
      "source": [
        "print(\"Intercept(beta_0)\",lm_multi_1.intercept_,\"\\nCoefficients\",lm_multi_1.coef_)"
      ],
      "execution_count": 24,
      "outputs": [
        {
          "output_type": "stream",
          "text": [
            "Intercept(beta_0) -6.498625198419905 \n",
            "Coefficients [ 9.70998193e-03 -4.08746495e-02 -1.58973999e+01  4.01901676e+00\n",
            " -5.71475069e-03  1.00700068e+00 -5.77271243e-01  3.29221139e-01\n",
            "  9.18675603e-02  1.61185504e-02 -1.21863952e+00  1.13151586e+00\n",
            "  2.64086064e-01 -6.87555889e-01 -2.91318712e-01]\n"
          ],
          "name": "stdout"
        }
      ]
    },
    {
      "cell_type": "markdown",
      "metadata": {
        "id": "51aCJtTt_m8Z"
      },
      "source": [
        "#### Train Test Split"
      ]
    },
    {
      "cell_type": "code",
      "metadata": {
        "id": "B1DAeGz5_jIv"
      },
      "source": [
        "from sklearn.model_selection import train_test_split"
      ],
      "execution_count": 25,
      "outputs": []
    },
    {
      "cell_type": "code",
      "metadata": {
        "id": "0vP28ZNk_pmI"
      },
      "source": [
        "lm_multi_2 = LinearRegression()"
      ],
      "execution_count": 26,
      "outputs": []
    },
    {
      "cell_type": "code",
      "metadata": {
        "id": "CUCnQSd5_rpH"
      },
      "source": [
        "X_multi = df.drop('price',axis=1)\n",
        "y_multi = df['price']\n",
        "\n",
        "X_train, X_test, y_train, y_test = train_test_split(X_multi, y_multi, test_size=0.2, random_state=42)"
      ],
      "execution_count": 27,
      "outputs": []
    },
    {
      "cell_type": "code",
      "metadata": {
        "colab": {
          "base_uri": "https://localhost:8080/"
        },
        "id": "gbiaPs4j_uNu",
        "outputId": "47635f0b-48ff-48af-ef88-58f98c23d363"
      },
      "source": [
        "lm_multi_2.fit(X_multi,y_multi)"
      ],
      "execution_count": 28,
      "outputs": [
        {
          "output_type": "execute_result",
          "data": {
            "text/plain": [
              "LinearRegression(copy_X=True, fit_intercept=True, n_jobs=None, normalize=False)"
            ]
          },
          "metadata": {
            "tags": []
          },
          "execution_count": 28
        }
      ]
    },
    {
      "cell_type": "code",
      "metadata": {
        "id": "VEKX7wF3_whl"
      },
      "source": [
        "y_test_pred = lm_multi_2.predict(X_test)\n",
        "\n",
        "y_train_pred = lm_multi_2.predict(X_train)"
      ],
      "execution_count": 29,
      "outputs": []
    },
    {
      "cell_type": "code",
      "metadata": {
        "id": "yYVZcyNY_0tE"
      },
      "source": [
        "from sklearn.metrics import r2_score"
      ],
      "execution_count": 30,
      "outputs": []
    },
    {
      "cell_type": "code",
      "metadata": {
        "colab": {
          "base_uri": "https://localhost:8080/"
        },
        "id": "sPpInjqU_3En",
        "outputId": "00ef65fc-5d9a-42df-c7fc-8688f5d552ef"
      },
      "source": [
        "# r2 of test data\n",
        "r2_score(y_test,y_test_pred)"
      ],
      "execution_count": 31,
      "outputs": [
        {
          "output_type": "execute_result",
          "data": {
            "text/plain": [
              "0.6778660979798465"
            ]
          },
          "metadata": {
            "tags": []
          },
          "execution_count": 31
        }
      ]
    },
    {
      "cell_type": "code",
      "metadata": {
        "colab": {
          "base_uri": "https://localhost:8080/"
        },
        "id": "Upq6pAhS_5k0",
        "outputId": "d0ca9645-92ee-4412-f195-0ea8d1981157"
      },
      "source": [
        "# r2 of train data\n",
        "r2_score(y_train,y_train_pred)"
      ],
      "execution_count": 32,
      "outputs": [
        {
          "output_type": "execute_result",
          "data": {
            "text/plain": [
              "0.728881249150626"
            ]
          },
          "metadata": {
            "tags": []
          },
          "execution_count": 32
        }
      ]
    },
    {
      "cell_type": "markdown",
      "metadata": {
        "id": "y1Ca-NS3AACT"
      },
      "source": [
        "### Ridge Regression"
      ]
    },
    {
      "cell_type": "code",
      "metadata": {
        "id": "CraPQnwl_8wt"
      },
      "source": [
        "from sklearn import preprocessing"
      ],
      "execution_count": 52,
      "outputs": []
    },
    {
      "cell_type": "code",
      "metadata": {
        "id": "ElEpXKxtD2D0"
      },
      "source": [
        "from sklearn.model_selection import train_test_split\n",
        "\n",
        "X = df.drop('price',axis=1)\n",
        "y = df['price']\n",
        "\n",
        "X_train, X_test, y_train, y_test = train_test_split(X, y, test_size=0.2, random_state=42)"
      ],
      "execution_count": null,
      "outputs": []
    },
    {
      "cell_type": "code",
      "metadata": {
        "id": "LroqaOu6AKDU"
      },
      "source": [
        "# scaler object on train data\n",
        "scaler = preprocessing.StandardScaler().fit(X_train)"
      ],
      "execution_count": 54,
      "outputs": []
    },
    {
      "cell_type": "code",
      "metadata": {
        "id": "m_pxC34XAMNc"
      },
      "source": [
        "# Standardize the dataset\n",
        "X_train_scaled = scaler.transform(X_train)\n",
        "X_test_scaled = scaler.transform(X_test)"
      ],
      "execution_count": 55,
      "outputs": []
    },
    {
      "cell_type": "code",
      "metadata": {
        "id": "OXkdBu6-AOnM"
      },
      "source": [
        "# Import ridge regression\n",
        "from sklearn.linear_model import Ridge"
      ],
      "execution_count": 56,
      "outputs": []
    },
    {
      "cell_type": "code",
      "metadata": {
        "colab": {
          "base_uri": "https://localhost:8080/"
        },
        "id": "KUt5ojs3AQrd",
        "outputId": "def7f46a-7f9d-4db8-ad60-dcef8ab9e848"
      },
      "source": [
        "lm_reg = Ridge(alpha=0.5)\n",
        "lm_reg.fit(X_train_scaled,y_train)"
      ],
      "execution_count": 57,
      "outputs": [
        {
          "output_type": "execute_result",
          "data": {
            "text/plain": [
              "Ridge(alpha=0.5, copy_X=True, fit_intercept=True, max_iter=None,\n",
              "      normalize=False, random_state=None, solver='auto', tol=0.001)"
            ]
          },
          "metadata": {
            "tags": []
          },
          "execution_count": 57
        }
      ]
    },
    {
      "cell_type": "code",
      "metadata": {
        "colab": {
          "base_uri": "https://localhost:8080/"
        },
        "id": "_RXOHPH3AV38",
        "outputId": "1dda62ba-b52f-406a-d9b5-57cae52b6a2c"
      },
      "source": [
        "# r2 of test data\n",
        "r2_score(y_test,lm_reg.predict(X_test_scaled))"
      ],
      "execution_count": 58,
      "outputs": [
        {
          "output_type": "execute_result",
          "data": {
            "text/plain": [
              "0.6509793979704449"
            ]
          },
          "metadata": {
            "tags": []
          },
          "execution_count": 58
        }
      ]
    },
    {
      "cell_type": "markdown",
      "metadata": {
        "id": "jL-suCcUBn4F"
      },
      "source": [
        "### Selecting best alpha value in ridge using validation_curve"
      ]
    },
    {
      "cell_type": "code",
      "metadata": {
        "colab": {
          "base_uri": "https://localhost:8080/"
        },
        "id": "p0LYPMk6AYvn",
        "outputId": "79a4166d-76ec-429f-9dea-d5a4aaa5a8ba"
      },
      "source": [
        "param_range = np.logspace(-4,4,50)\n",
        "param_range"
      ],
      "execution_count": 59,
      "outputs": [
        {
          "output_type": "execute_result",
          "data": {
            "text/plain": [
              "array([1.00000000e-04, 1.45634848e-04, 2.12095089e-04, 3.08884360e-04,\n",
              "       4.49843267e-04, 6.55128557e-04, 9.54095476e-04, 1.38949549e-03,\n",
              "       2.02358965e-03, 2.94705170e-03, 4.29193426e-03, 6.25055193e-03,\n",
              "       9.10298178e-03, 1.32571137e-02, 1.93069773e-02, 2.81176870e-02,\n",
              "       4.09491506e-02, 5.96362332e-02, 8.68511374e-02, 1.26485522e-01,\n",
              "       1.84206997e-01, 2.68269580e-01, 3.90693994e-01, 5.68986603e-01,\n",
              "       8.28642773e-01, 1.20679264e+00, 1.75751062e+00, 2.55954792e+00,\n",
              "       3.72759372e+00, 5.42867544e+00, 7.90604321e+00, 1.15139540e+01,\n",
              "       1.67683294e+01, 2.44205309e+01, 3.55648031e+01, 5.17947468e+01,\n",
              "       7.54312006e+01, 1.09854114e+02, 1.59985872e+02, 2.32995181e+02,\n",
              "       3.39322177e+02, 4.94171336e+02, 7.19685673e+02, 1.04811313e+03,\n",
              "       1.52641797e+03, 2.22299648e+03, 3.23745754e+03, 4.71486636e+03,\n",
              "       6.86648845e+03, 1.00000000e+04])"
            ]
          },
          "metadata": {
            "tags": []
          },
          "execution_count": 59
        }
      ]
    },
    {
      "cell_type": "code",
      "metadata": {
        "id": "u-bLyzgMBuhb"
      },
      "source": [
        "from sklearn.model_selection import validation_curve\n",
        "\n",
        "# default 5 fold validation\n",
        "train_score, test_score = validation_curve(estimator=Ridge(),\n",
        "                                            X=X_train_scaled,\n",
        "                                            y=y_train,\n",
        "                                            param_name='alpha',\n",
        "                                            param_range=param_range,\n",
        "                                            scoring='r2'\n",
        "                                          )"
      ],
      "execution_count": 60,
      "outputs": []
    },
    {
      "cell_type": "code",
      "metadata": {
        "id": "SXdV8IoKBuX7"
      },
      "source": [
        "train_score_mean = np.mean(train_score, axis=1)\n",
        "test_score_mean = np.mean(test_score, axis=1)"
      ],
      "execution_count": 61,
      "outputs": []
    },
    {
      "cell_type": "code",
      "metadata": {
        "colab": {
          "base_uri": "https://localhost:8080/"
        },
        "id": "DYjXOMe8B2-m",
        "outputId": "c2ec9378-a028-4d0a-9a49-aef578f0b252"
      },
      "source": [
        "print(\"Alpha value at which r2 score is max is: \",param_range[np.argmax(test_score_mean)])"
      ],
      "execution_count": 62,
      "outputs": [
        {
          "output_type": "stream",
          "text": [
            "Alpha value at which r2 score is max is:  31\n"
          ],
          "name": "stdout"
        }
      ]
    },
    {
      "cell_type": "code",
      "metadata": {
        "colab": {
          "base_uri": "https://localhost:8080/",
          "height": 455
        },
        "id": "kUKLNQdLB221",
        "outputId": "036d0f99-0a66-41d5-ed88-f9b5a6d86d3c"
      },
      "source": [
        "p = sns.jointplot(x=np.log(param_range),y=test_score_mean)\n",
        "p.set_axis_labels(xlabel = \"alpha\", ylabel = \"test_score_mean\")\n",
        "plt.show()"
      ],
      "execution_count": 63,
      "outputs": [
        {
          "output_type": "display_data",
          "data": {
            "image/png": "[encoded data removed]",
            "text/plain": [
              "<Figure size 432x432 with 3 Axes>"
            ]
          },
          "metadata": {
            "tags": [],
            "needs_background": "light"
          }
        }
      ]
    },
    {
      "cell_type": "code",
      "metadata": {
        "colab": {
          "base_uri": "https://localhost:8080/"
        },
        "id": "M3LF1knDCDzf",
        "outputId": "5e9149c1-d2a7-489e-c3cb-bda4bc7c9b25"
      },
      "source": [
        "# Now fitting with best alpha\n",
        "lm_reg_best = Ridge(alpha=max(test_score_mean))\n",
        "lm_reg_best.fit(X_train_scaled,y_train)"
      ],
      "execution_count": 64,
      "outputs": [
        {
          "output_type": "execute_result",
          "data": {
            "text/plain": [
              "Ridge(alpha=0.703041829290489, copy_X=True, fit_intercept=True, max_iter=None,\n",
              "      normalize=False, random_state=None, solver='auto', tol=0.001)"
            ]
          },
          "metadata": {
            "tags": []
          },
          "execution_count": 64
        }
      ]
    },
    {
      "cell_type": "code",
      "metadata": {
        "colab": {
          "base_uri": "https://localhost:8080/"
        },
        "id": "R6PU5xJfCDv7",
        "outputId": "dbd0d1b3-2363-4e00-cea7-acd0c7c878b3"
      },
      "source": [
        "# r2 of test data\n",
        "r2_score(y_test,lm_reg_best.predict(X_test_scaled))"
      ],
      "execution_count": 65,
      "outputs": [
        {
          "output_type": "execute_result",
          "data": {
            "text/plain": [
              "0.6510531318483975"
            ]
          },
          "metadata": {
            "tags": []
          },
          "execution_count": 65
        }
      ]
    },
    {
      "cell_type": "markdown",
      "metadata": {
        "id": "yqw16bUMDeog"
      },
      "source": [
        "### Lasso Regression"
      ]
    },
    {
      "cell_type": "code",
      "metadata": {
        "id": "ifAcP4EYDWFH"
      },
      "source": [
        "from sklearn import preprocessing\n",
        "\n",
        "from sklearn.model_selection import train_test_split\n",
        "\n",
        "X = df.drop('price',axis=1)\n",
        "y = df['price']\n",
        "\n",
        "X_train, X_test, y_train, y_test = train_test_split(X, y, test_size=0.2, random_state=42)"
      ],
      "execution_count": 66,
      "outputs": []
    },
    {
      "cell_type": "code",
      "metadata": {
        "id": "bDygL_-2EihC"
      },
      "source": [
        "# scaler object on train data\n",
        "scaler = preprocessing.StandardScaler().fit(X_train)"
      ],
      "execution_count": 67,
      "outputs": []
    },
    {
      "cell_type": "code",
      "metadata": {
        "id": "87JGsiwFEr6b"
      },
      "source": [
        "# Standardize the dataset\n",
        "X_train_scaled = scaler.transform(X_train)\n",
        "X_test_scaled = scaler.transform(X_test)"
      ],
      "execution_count": 68,
      "outputs": []
    },
    {
      "cell_type": "code",
      "metadata": {
        "colab": {
          "base_uri": "https://localhost:8080/"
        },
        "id": "oryHfCPNEuwZ",
        "outputId": "2330cf7f-c360-414b-c22f-e0bff15184aa"
      },
      "source": [
        "# Import ridge regression\n",
        "from sklearn.linear_model import Lasso\n",
        "\n",
        "# object of lasso\n",
        "lm_reg = Lasso(alpha=0.01)\n",
        "\n",
        "# fit on train_scaled and y_train\n",
        "lm_reg.fit(X_train_scaled,y_train)"
      ],
      "execution_count": 77,
      "outputs": [
        {
          "output_type": "execute_result",
          "data": {
            "text/plain": [
              "Lasso(alpha=0.01, copy_X=True, fit_intercept=True, max_iter=1000,\n",
              "      normalize=False, positive=False, precompute=False, random_state=None,\n",
              "      selection='cyclic', tol=0.0001, warm_start=False)"
            ]
          },
          "metadata": {
            "tags": []
          },
          "execution_count": 77
        }
      ]
    },
    {
      "cell_type": "code",
      "metadata": {
        "colab": {
          "base_uri": "https://localhost:8080/"
        },
        "id": "XgEF4StMFPPd",
        "outputId": "77c21c47-dc46-41a6-9cdf-9be283ca7e82"
      },
      "source": [
        "# r2 of test data\n",
        "r2_score(y_test,lm_reg.predict(X_test_scaled))"
      ],
      "execution_count": 78,
      "outputs": [
        {
          "output_type": "execute_result",
          "data": {
            "text/plain": [
              "0.6518724374422276"
            ]
          },
          "metadata": {
            "tags": []
          },
          "execution_count": 78
        }
      ]
    },
    {
      "cell_type": "markdown",
      "metadata": {
        "id": "bdog8Qb_F4my"
      },
      "source": [
        "### Selecting best alpha value in lasso using validation_curve"
      ]
    },
    {
      "cell_type": "code",
      "metadata": {
        "id": "hLNIPnN9FQ6E"
      },
      "source": [
        "param_range = np.logspace(-4,4,50)"
      ],
      "execution_count": 80,
      "outputs": []
    },
    {
      "cell_type": "code",
      "metadata": {
        "id": "D9iw4_t4GCYw"
      },
      "source": [
        "from sklearn.model_selection import validation_curve\n",
        "\n",
        "# default 5 fold validation\n",
        "train_score, test_score = validation_curve(estimator=Lasso(),\n",
        "                                            X=X_train_scaled,\n",
        "                                            y=y_train,\n",
        "                                            param_name='alpha',\n",
        "                                            param_range=param_range,\n",
        "                                            scoring='r2'\n",
        "                                          )"
      ],
      "execution_count": 81,
      "outputs": []
    },
    {
      "cell_type": "code",
      "metadata": {
        "id": "aSvn6QdLGOg1"
      },
      "source": [
        "train_score_mean = np.mean(train_score, axis=1)\n",
        "test_score_mean = np.mean(test_score, axis=1)"
      ],
      "execution_count": 82,
      "outputs": []
    },
    {
      "cell_type": "code",
      "metadata": {
        "colab": {
          "base_uri": "https://localhost:8080/"
        },
        "id": "6uzismHFGPcA",
        "outputId": "ec6b19fd-9223-443f-a89c-c4219c7c9e99"
      },
      "source": [
        "print(\"Alpha value at which r2 score is max is: \",param_range[np.argmax(test_score_mean)])"
      ],
      "execution_count": 85,
      "outputs": [
        {
          "output_type": "stream",
          "text": [
            "Alpha value at which r2 score is max is:  0.019306977288832496\n"
          ],
          "name": "stdout"
        }
      ]
    },
    {
      "cell_type": "code",
      "metadata": {
        "colab": {
          "base_uri": "https://localhost:8080/",
          "height": 455
        },
        "id": "zs5YOqysGVef",
        "outputId": "08d1cf74-8e1b-497f-bc24-73ae1419ecce"
      },
      "source": [
        "p = sns.jointplot(x=np.log(param_range),y=test_score_mean)\n",
        "p.set_axis_labels(xlabel = \"alpha\", ylabel = \"test_score_mean\")\n",
        "plt.show()"
      ],
      "execution_count": 84,
      "outputs": [
        {
          "output_type": "display_data",
          "data": {
            "image/png": "[encoded data removed]",
            "text/plain": [
              "<Figure size 432x432 with 3 Axes>"
            ]
          },
          "metadata": {
            "tags": [],
            "needs_background": "light"
          }
        }
      ]
    },
    {
      "cell_type": "code",
      "metadata": {
        "colab": {
          "base_uri": "https://localhost:8080/"
        },
        "id": "Bs282M-SGcHO",
        "outputId": "0fe3a91f-40da-45b5-e997-a2648d33925f"
      },
      "source": [
        "# Now fitting with best alpha\n",
        "best_alpha = param_range[np.argmax(test_score_mean)]\n",
        "lm_reg_best = Ridge(alpha=best_alpha)\n",
        "lm_reg_best.fit(X_train_scaled,y_train)"
      ],
      "execution_count": 89,
      "outputs": [
        {
          "output_type": "execute_result",
          "data": {
            "text/plain": [
              "Ridge(alpha=0.019306977288832496, copy_X=True, fit_intercept=True,\n",
              "      max_iter=None, normalize=False, random_state=None, solver='auto',\n",
              "      tol=0.001)"
            ]
          },
          "metadata": {
            "tags": []
          },
          "execution_count": 89
        }
      ]
    },
    {
      "cell_type": "code",
      "metadata": {
        "colab": {
          "base_uri": "https://localhost:8080/"
        },
        "id": "Zkz9saAVHBOH",
        "outputId": "4a2830ac-9268-489c-8542-0f88c5ea5c68"
      },
      "source": [
        "# r2 of test data\n",
        "r2_score(y_test,lm_reg_best.predict(X_test_scaled))"
      ],
      "execution_count": 92,
      "outputs": [
        {
          "output_type": "execute_result",
          "data": {
            "text/plain": [
              "0.6508030112618002"
            ]
          },
          "metadata": {
            "tags": []
          },
          "execution_count": 92
        }
      ]
    },
    {
      "cell_type": "code",
      "metadata": {
        "id": "FOhqsyHZInQM"
      },
      "source": [
        ""
      ],
      "execution_count": null,
      "outputs": []
    }
  ]
}
