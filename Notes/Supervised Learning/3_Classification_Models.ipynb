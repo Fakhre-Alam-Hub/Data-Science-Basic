{
  "nbformat": 4,
  "nbformat_minor": 0,
  "metadata": {
    "colab": {
      "name": "3_Classification Models",
      "provenance": [],
      "collapsed_sections": [],
      "toc_visible": true,
      "mount_file_id": "1XBsUDlL9UgNCqCE3uDW7YeoV6e7z7bLX",
      "authorship_tag": "ABX9TyPtJyPViv52Krd9YQj83Wdw",
      "include_colab_link": true
    },
    "kernelspec": {
      "name": "python3",
      "display_name": "Python 3"
    },
    "language_info": {
      "name": "python"
    }
  },
  "cells": [
    {
      "cell_type": "markdown",
      "metadata": {
        "id": "view-in-github",
        "colab_type": "text"
      },
      "source": [
        "<a href=\"https://colab.research.google.com/github/Fakhre-Alam-Hub/Data-Science-Basic/blob/master/Notes/3_Classification_Models.ipynb\" target=\"_parent\"><img src=\"https://colab.research.google.com/assets/colab-badge.svg\" alt=\"Open In Colab\"/></a>"
      ]
    },
    {
      "cell_type": "markdown",
      "metadata": {
        "id": "PI35zWGjELg2"
      },
      "source": [
        "# <center>Classification Algorithms</center>\n",
        "\n",
        "1. Logistic Regression\n",
        "2. Linear Discriminant Analysis\n",
        "3. K nearest neighbor\n",
        "\n",
        "**Why not Linear Regression for Classification problem?**\n",
        "\n",
        "**Limitation of Linear Regression**\n",
        "* Linear Regression can not be used for more than two lavels of response variable\n",
        "* Linear regression is used for continous response variable.\n",
        "* The predicted value of y can not be considered as a probability of belonging to a particular class.\n",
        "><b>Note: probability range from 0 to 1 but linear regression output range from -1 to 1.</b>\n",
        "* Impact of outline values(not outlier it is handel in preprocessing)"
      ]
    },
    {
      "cell_type": "markdown",
      "metadata": {
        "id": "Nk2tEDy0QsQ8"
      },
      "source": [
        "# Logistic Regression for single predictor\n",
        "\n",
        "* Logistic regression is a linear model for binary classification predictive modeling.\n",
        "* The linear part of the model predicts the log-odds of an example * belonging to class 1, which is converted to a probability via the logistic function.\n",
        "* The parameters of the model can be estimated by maximizing a likelihood function that predicts the mean of a Bernoulli distribution for each example.\n",
        "\n",
        "* It uses sigmoid function which range from 0 to 1\n",
        "* It used when predicted variable is categorical.\n",
        "\n",
        "Sigmoid Function $$p(X) = \\frac{\\epsilon^{(\\beta_0+\\beta_1X)}}{1+ \\epsilon^{(\\beta_0+\\beta_1X)}}$$\n",
        "\n",
        "\n",
        "* x tending towards infinity, the sigmoid function(P(x)) tending to 1\n",
        "* x tending towards - infinity, the sigmoid function(P(x)) tending to 0\n",
        "* For x=0, P(X) = 0.5"
      ]
    },
    {
      "cell_type": "markdown",
      "metadata": {
        "id": "qP0uK8vGd3Cc"
      },
      "source": [
        "MODEL                 | METHOD\n",
        "----------------------|-----------------------------\n",
        "Linear Regression     | Ordinary Least Squares (OLS)\n",
        "Logistic Regression   | Maximum Likelihood Method"
      ]
    },
    {
      "cell_type": "markdown",
      "metadata": {
        "id": "FWv_QZXsAN3_"
      },
      "source": [
        "# Logistic Regression For multiple Predictor\n",
        "\n",
        "Sigmoid Function for multiple predictor $$p(X) = \\frac{\\epsilon^{(\\beta_0+\\beta_1X1+...+\\beta_pXp)}}{1+ \\epsilon^{(\\beta_0+\\beta_1X1+...+\\beta_pXp)}}$$"
      ]
    },
    {
      "cell_type": "markdown",
      "metadata": {
        "id": "drxeVpqrKfJt"
      },
      "source": [
        "# Confusion Matrix\n",
        "\n",
        "[Confusion matrix image](https://miro.medium.com/max/2102/1*fxiTNIgOyvAombPJx5KGeA.png)\n",
        "\n",
        "* **True Positives (TP):** when the actual value is Positive and predicted is also Positive.\n",
        "* **True negatives (TN):** when the actual value is Negative and prediction is also Negative.\n",
        "* **False positives (FP):** When the actual is negative but prediction is Positive. Also known as the Type 1 error\n",
        "* **False negatives (FN):** When the actual is Positive but the prediction is Negative. Also known as the Type 2 error\n",
        "\n",
        "\n",
        "## Classification Measure\n",
        "\n",
        "**Accuracy:** It’s the ratio between the number of correct predictions and the total number of predictions. **The accuracy metric is not suited for imbalanced classes.**\n",
        "\n",
        "Accuracy = $\\frac{TP+TN}{TP+TN+FP+FN}$\n",
        "<br><br>\n",
        "**Precision:** Precision is defined as the ratio of the total number of correctly classified positive classes divided by the total number of predicted positive classes. Or, out of all the predictive positive classes, how much we predicted correctly. **Precision should be high(ideally 1).** “Precision is a useful metric in cases where False Positive is a higher concern than False Negatives”\n",
        "\n",
        "Precission = $\\frac{TP}{TP+FP}$\n",
        "<br><br>\n",
        "\n",
        "**Recall:** Recall is defined as the ratio of the total number of correctly classified positive classes divide by the total number of positive classes. Or, out of all the positive classes, how much we have predicted correctly. **Recall should be high(ideally 1).**\n",
        "“Recall is a useful metric in cases where False Negative trumps False Positive”\n",
        "\n",
        "Recall = $\\frac{TP}{TP+FN}$\n",
        "<br><br>\n",
        "\n",
        "**Trick to remember : Precision has Predictive Results in the denominator.**\n",
        "<br><br>\n",
        "\n",
        "**F-measure / F1-Score:** There will be cases where there is no clear distinction between whether Precision is more important or Recall. We combine them!\n",
        "\n",
        "F1-score = $2 * \\frac{(Recall * Precission)}{(Recall + Precission)}$\n",
        "<br><br>\n",
        "\n",
        "True positive rate = $\\frac{TP}{TP+FN}$ = 1 - Type-2 Error = Sensitivity = Recall\n",
        "<br><br>\n",
        "False positive rate = $\\frac{FP}{TN+FP}$ = Type-1 Error = 1-Specificity\n",
        "\n",
        "\n",
        "**ROC:** Receiver Operating Characteristics\n",
        ">x-axis: False Positive rate\n",
        "\n",
        ">y-axis: True Positive rate\n",
        "\n",
        "AUC of ROC ideally be 1\n"
      ]
    },
    {
      "cell_type": "markdown",
      "metadata": {
        "id": "ooiLs8mJbEN8"
      },
      "source": [
        "# Linear Discriminant Analysis\n",
        "\n",
        "* Preferred when response variable has more than two classes\n",
        "* Based on Bayes Theorem\n",
        "\n",
        "For a given set of predictor values LDA will calculate the probability of that observation belonging to each group, which group has highest probability that group is assigned to that observation.\n",
        "\n",
        "#### Assumption \n",
        "* Continuos variable are normaly distributed\n",
        "* **If continuos variable is normaly distributed LDA perform better otherwise Logistic regression perform better**"
      ]
    },
    {
      "cell_type": "markdown",
      "metadata": {
        "id": "4zAsZ8yEiy_N"
      },
      "source": [
        "# K-Nearest Neighbors\n",
        "\n",
        "* Uses bayes classifier\n",
        "* Used when there is non-linear relation between predictor and response variable\n",
        "* **KNN is non parametric method**\n",
        "* It does not assume any functional form\n",
        "* Standardization of data require\n",
        "\n",
        "**Hyperparameter**\n",
        "* **K(n_neighbors):** Low value of K means more flexible,and high value of K means less flexible\n",
        "\n",
        "**Drawbacks**\n",
        "* No functional relation in predictor variable and response variable.\n",
        "* Cannot estimate the effect of individual predictor on target variable"
      ]
    },
    {
      "cell_type": "code",
      "metadata": {
        "id": "1cOmmTO3KD1M"
      },
      "source": [
        "import pandas as pd\n",
        "import numpy as np\n",
        "import seaborn as sns\n",
        "import matplotlib.pyplot as plt \n",
        "\n",
        "import warnings\n",
        "warnings.filterwarnings('ignore')"
      ],
      "execution_count": 1,
      "outputs": []
    },
    {
      "cell_type": "code",
      "metadata": {
        "colab": {
          "base_uri": "https://localhost:8080/",
          "height": 222
        },
        "id": "5NjZU0RkWLwl",
        "outputId": "7f721b9d-cdb0-4563-d933-16fafb49a2c9"
      },
      "source": [
        "df = pd.read_csv(\"/content/drive/MyDrive/Data Science Notes with Example/Data Files/2. ST Academy - Classification models resource files/House-Price.csv\")\n",
        "df.head()"
      ],
      "execution_count": null,
      "outputs": [
        {
          "output_type": "execute_result",
          "data": {
            "text/html": [
              "<div>\n",
              "<style scoped>\n",
              "    .dataframe tbody tr th:only-of-type {\n",
              "        vertical-align: middle;\n",
              "    }\n",
              "\n",
              "    .dataframe tbody tr th {\n",
              "        vertical-align: top;\n",
              "    }\n",
              "\n",
              "    .dataframe thead th {\n",
              "        text-align: right;\n",
              "    }\n",
              "</style>\n",
              "<table border=\"1\" class=\"dataframe\">\n",
              "  <thead>\n",
              "    <tr style=\"text-align: right;\">\n",
              "      <th></th>\n",
              "      <th>price</th>\n",
              "      <th>resid_area</th>\n",
              "      <th>air_qual</th>\n",
              "      <th>room_num</th>\n",
              "      <th>age</th>\n",
              "      <th>dist1</th>\n",
              "      <th>dist2</th>\n",
              "      <th>dist3</th>\n",
              "      <th>dist4</th>\n",
              "      <th>teachers</th>\n",
              "      <th>poor_prop</th>\n",
              "      <th>airport</th>\n",
              "      <th>n_hos_beds</th>\n",
              "      <th>n_hot_rooms</th>\n",
              "      <th>waterbody</th>\n",
              "      <th>rainfall</th>\n",
              "      <th>bus_ter</th>\n",
              "      <th>parks</th>\n",
              "      <th>Sold</th>\n",
              "    </tr>\n",
              "  </thead>\n",
              "  <tbody>\n",
              "    <tr>\n",
              "      <th>0</th>\n",
              "      <td>24.0</td>\n",
              "      <td>32.31</td>\n",
              "      <td>0.538</td>\n",
              "      <td>6.575</td>\n",
              "      <td>65.2</td>\n",
              "      <td>4.35</td>\n",
              "      <td>3.81</td>\n",
              "      <td>4.18</td>\n",
              "      <td>4.01</td>\n",
              "      <td>24.7</td>\n",
              "      <td>4.98</td>\n",
              "      <td>YES</td>\n",
              "      <td>5.480</td>\n",
              "      <td>11.1920</td>\n",
              "      <td>River</td>\n",
              "      <td>23</td>\n",
              "      <td>YES</td>\n",
              "      <td>0.049347</td>\n",
              "      <td>0</td>\n",
              "    </tr>\n",
              "    <tr>\n",
              "      <th>1</th>\n",
              "      <td>21.6</td>\n",
              "      <td>37.07</td>\n",
              "      <td>0.469</td>\n",
              "      <td>6.421</td>\n",
              "      <td>78.9</td>\n",
              "      <td>4.99</td>\n",
              "      <td>4.70</td>\n",
              "      <td>5.12</td>\n",
              "      <td>5.06</td>\n",
              "      <td>22.2</td>\n",
              "      <td>9.14</td>\n",
              "      <td>NO</td>\n",
              "      <td>7.332</td>\n",
              "      <td>12.1728</td>\n",
              "      <td>Lake</td>\n",
              "      <td>42</td>\n",
              "      <td>YES</td>\n",
              "      <td>0.046146</td>\n",
              "      <td>1</td>\n",
              "    </tr>\n",
              "    <tr>\n",
              "      <th>2</th>\n",
              "      <td>34.7</td>\n",
              "      <td>37.07</td>\n",
              "      <td>0.469</td>\n",
              "      <td>7.185</td>\n",
              "      <td>61.1</td>\n",
              "      <td>5.03</td>\n",
              "      <td>4.86</td>\n",
              "      <td>5.01</td>\n",
              "      <td>4.97</td>\n",
              "      <td>22.2</td>\n",
              "      <td>4.03</td>\n",
              "      <td>NO</td>\n",
              "      <td>7.394</td>\n",
              "      <td>101.1200</td>\n",
              "      <td>None</td>\n",
              "      <td>38</td>\n",
              "      <td>YES</td>\n",
              "      <td>0.045764</td>\n",
              "      <td>0</td>\n",
              "    </tr>\n",
              "    <tr>\n",
              "      <th>3</th>\n",
              "      <td>33.4</td>\n",
              "      <td>32.18</td>\n",
              "      <td>0.458</td>\n",
              "      <td>6.998</td>\n",
              "      <td>45.8</td>\n",
              "      <td>6.21</td>\n",
              "      <td>5.93</td>\n",
              "      <td>6.16</td>\n",
              "      <td>5.96</td>\n",
              "      <td>21.3</td>\n",
              "      <td>2.94</td>\n",
              "      <td>YES</td>\n",
              "      <td>9.268</td>\n",
              "      <td>11.2672</td>\n",
              "      <td>Lake</td>\n",
              "      <td>45</td>\n",
              "      <td>YES</td>\n",
              "      <td>0.047151</td>\n",
              "      <td>0</td>\n",
              "    </tr>\n",
              "    <tr>\n",
              "      <th>4</th>\n",
              "      <td>36.2</td>\n",
              "      <td>32.18</td>\n",
              "      <td>0.458</td>\n",
              "      <td>7.147</td>\n",
              "      <td>54.2</td>\n",
              "      <td>6.16</td>\n",
              "      <td>5.86</td>\n",
              "      <td>6.37</td>\n",
              "      <td>5.86</td>\n",
              "      <td>21.3</td>\n",
              "      <td>5.33</td>\n",
              "      <td>NO</td>\n",
              "      <td>8.824</td>\n",
              "      <td>11.2896</td>\n",
              "      <td>Lake</td>\n",
              "      <td>55</td>\n",
              "      <td>YES</td>\n",
              "      <td>0.039474</td>\n",
              "      <td>0</td>\n",
              "    </tr>\n",
              "  </tbody>\n",
              "</table>\n",
              "</div>"
            ],
            "text/plain": [
              "   price  resid_area  air_qual  room_num  ...  rainfall  bus_ter     parks  Sold\n",
              "0   24.0       32.31     0.538     6.575  ...        23      YES  0.049347     0\n",
              "1   21.6       37.07     0.469     6.421  ...        42      YES  0.046146     1\n",
              "2   34.7       37.07     0.469     7.185  ...        38      YES  0.045764     0\n",
              "3   33.4       32.18     0.458     6.998  ...        45      YES  0.047151     0\n",
              "4   36.2       32.18     0.458     7.147  ...        55      YES  0.039474     0\n",
              "\n",
              "[5 rows x 19 columns]"
            ]
          },
          "metadata": {
            "tags": []
          },
          "execution_count": 59
        }
      ]
    },
    {
      "cell_type": "code",
      "metadata": {
        "colab": {
          "base_uri": "https://localhost:8080/",
          "height": 314
        },
        "id": "ZYPPjAdXWZvs",
        "outputId": "4f3afa80-e83b-4c9b-f3bc-1f033ea08d4b"
      },
      "source": [
        "df.describe()"
      ],
      "execution_count": null,
      "outputs": [
        {
          "output_type": "execute_result",
          "data": {
            "text/html": [
              "<div>\n",
              "<style scoped>\n",
              "    .dataframe tbody tr th:only-of-type {\n",
              "        vertical-align: middle;\n",
              "    }\n",
              "\n",
              "    .dataframe tbody tr th {\n",
              "        vertical-align: top;\n",
              "    }\n",
              "\n",
              "    .dataframe thead th {\n",
              "        text-align: right;\n",
              "    }\n",
              "</style>\n",
              "<table border=\"1\" class=\"dataframe\">\n",
              "  <thead>\n",
              "    <tr style=\"text-align: right;\">\n",
              "      <th></th>\n",
              "      <th>price</th>\n",
              "      <th>resid_area</th>\n",
              "      <th>air_qual</th>\n",
              "      <th>room_num</th>\n",
              "      <th>age</th>\n",
              "      <th>dist1</th>\n",
              "      <th>dist2</th>\n",
              "      <th>dist3</th>\n",
              "      <th>dist4</th>\n",
              "      <th>teachers</th>\n",
              "      <th>poor_prop</th>\n",
              "      <th>n_hos_beds</th>\n",
              "      <th>n_hot_rooms</th>\n",
              "      <th>rainfall</th>\n",
              "      <th>parks</th>\n",
              "      <th>Sold</th>\n",
              "    </tr>\n",
              "  </thead>\n",
              "  <tbody>\n",
              "    <tr>\n",
              "      <th>count</th>\n",
              "      <td>506.000000</td>\n",
              "      <td>506.000000</td>\n",
              "      <td>506.000000</td>\n",
              "      <td>506.000000</td>\n",
              "      <td>506.000000</td>\n",
              "      <td>506.000000</td>\n",
              "      <td>506.000000</td>\n",
              "      <td>506.000000</td>\n",
              "      <td>506.000000</td>\n",
              "      <td>506.000000</td>\n",
              "      <td>506.000000</td>\n",
              "      <td>498.000000</td>\n",
              "      <td>506.000000</td>\n",
              "      <td>506.000000</td>\n",
              "      <td>506.000000</td>\n",
              "      <td>506.000000</td>\n",
              "    </tr>\n",
              "    <tr>\n",
              "      <th>mean</th>\n",
              "      <td>22.528854</td>\n",
              "      <td>41.136779</td>\n",
              "      <td>0.554695</td>\n",
              "      <td>6.284634</td>\n",
              "      <td>68.574901</td>\n",
              "      <td>3.971996</td>\n",
              "      <td>3.628775</td>\n",
              "      <td>3.960672</td>\n",
              "      <td>3.618972</td>\n",
              "      <td>21.544466</td>\n",
              "      <td>12.653063</td>\n",
              "      <td>7.899767</td>\n",
              "      <td>13.041605</td>\n",
              "      <td>39.181818</td>\n",
              "      <td>0.054454</td>\n",
              "      <td>0.454545</td>\n",
              "    </tr>\n",
              "    <tr>\n",
              "      <th>std</th>\n",
              "      <td>9.182176</td>\n",
              "      <td>6.860353</td>\n",
              "      <td>0.115878</td>\n",
              "      <td>0.702617</td>\n",
              "      <td>28.148861</td>\n",
              "      <td>2.108532</td>\n",
              "      <td>2.108580</td>\n",
              "      <td>2.119797</td>\n",
              "      <td>2.099203</td>\n",
              "      <td>2.164946</td>\n",
              "      <td>7.141062</td>\n",
              "      <td>1.476683</td>\n",
              "      <td>5.238957</td>\n",
              "      <td>12.513697</td>\n",
              "      <td>0.010632</td>\n",
              "      <td>0.498422</td>\n",
              "    </tr>\n",
              "    <tr>\n",
              "      <th>min</th>\n",
              "      <td>5.000000</td>\n",
              "      <td>30.460000</td>\n",
              "      <td>0.385000</td>\n",
              "      <td>3.561000</td>\n",
              "      <td>2.900000</td>\n",
              "      <td>1.130000</td>\n",
              "      <td>0.920000</td>\n",
              "      <td>1.150000</td>\n",
              "      <td>0.730000</td>\n",
              "      <td>18.000000</td>\n",
              "      <td>1.730000</td>\n",
              "      <td>5.268000</td>\n",
              "      <td>10.057600</td>\n",
              "      <td>3.000000</td>\n",
              "      <td>0.033292</td>\n",
              "      <td>0.000000</td>\n",
              "    </tr>\n",
              "    <tr>\n",
              "      <th>25%</th>\n",
              "      <td>17.025000</td>\n",
              "      <td>35.190000</td>\n",
              "      <td>0.449000</td>\n",
              "      <td>5.885500</td>\n",
              "      <td>45.025000</td>\n",
              "      <td>2.270000</td>\n",
              "      <td>1.940000</td>\n",
              "      <td>2.232500</td>\n",
              "      <td>1.940000</td>\n",
              "      <td>19.800000</td>\n",
              "      <td>6.950000</td>\n",
              "      <td>6.634500</td>\n",
              "      <td>11.189800</td>\n",
              "      <td>28.000000</td>\n",
              "      <td>0.046464</td>\n",
              "      <td>0.000000</td>\n",
              "    </tr>\n",
              "    <tr>\n",
              "      <th>50%</th>\n",
              "      <td>21.200000</td>\n",
              "      <td>39.690000</td>\n",
              "      <td>0.538000</td>\n",
              "      <td>6.208500</td>\n",
              "      <td>77.500000</td>\n",
              "      <td>3.385000</td>\n",
              "      <td>3.010000</td>\n",
              "      <td>3.375000</td>\n",
              "      <td>3.070000</td>\n",
              "      <td>20.950000</td>\n",
              "      <td>11.360000</td>\n",
              "      <td>7.999000</td>\n",
              "      <td>12.720000</td>\n",
              "      <td>39.000000</td>\n",
              "      <td>0.053507</td>\n",
              "      <td>0.000000</td>\n",
              "    </tr>\n",
              "    <tr>\n",
              "      <th>75%</th>\n",
              "      <td>25.000000</td>\n",
              "      <td>48.100000</td>\n",
              "      <td>0.624000</td>\n",
              "      <td>6.623500</td>\n",
              "      <td>94.075000</td>\n",
              "      <td>5.367500</td>\n",
              "      <td>4.992500</td>\n",
              "      <td>5.407500</td>\n",
              "      <td>4.985000</td>\n",
              "      <td>22.600000</td>\n",
              "      <td>16.955000</td>\n",
              "      <td>9.088000</td>\n",
              "      <td>14.170800</td>\n",
              "      <td>50.000000</td>\n",
              "      <td>0.061397</td>\n",
              "      <td>1.000000</td>\n",
              "    </tr>\n",
              "    <tr>\n",
              "      <th>max</th>\n",
              "      <td>50.000000</td>\n",
              "      <td>57.740000</td>\n",
              "      <td>0.871000</td>\n",
              "      <td>8.780000</td>\n",
              "      <td>100.000000</td>\n",
              "      <td>12.320000</td>\n",
              "      <td>11.930000</td>\n",
              "      <td>12.320000</td>\n",
              "      <td>11.940000</td>\n",
              "      <td>27.400000</td>\n",
              "      <td>37.970000</td>\n",
              "      <td>10.876000</td>\n",
              "      <td>101.120000</td>\n",
              "      <td>60.000000</td>\n",
              "      <td>0.086711</td>\n",
              "      <td>1.000000</td>\n",
              "    </tr>\n",
              "  </tbody>\n",
              "</table>\n",
              "</div>"
            ],
            "text/plain": [
              "            price  resid_area    air_qual  ...    rainfall       parks        Sold\n",
              "count  506.000000  506.000000  506.000000  ...  506.000000  506.000000  506.000000\n",
              "mean    22.528854   41.136779    0.554695  ...   39.181818    0.054454    0.454545\n",
              "std      9.182176    6.860353    0.115878  ...   12.513697    0.010632    0.498422\n",
              "min      5.000000   30.460000    0.385000  ...    3.000000    0.033292    0.000000\n",
              "25%     17.025000   35.190000    0.449000  ...   28.000000    0.046464    0.000000\n",
              "50%     21.200000   39.690000    0.538000  ...   39.000000    0.053507    0.000000\n",
              "75%     25.000000   48.100000    0.624000  ...   50.000000    0.061397    1.000000\n",
              "max     50.000000   57.740000    0.871000  ...   60.000000    0.086711    1.000000\n",
              "\n",
              "[8 rows x 16 columns]"
            ]
          },
          "metadata": {
            "tags": []
          },
          "execution_count": 60
        }
      ]
    },
    {
      "cell_type": "code",
      "metadata": {
        "id": "Fh1w4zJPY3oa"
      },
      "source": [
        "uv = np.percentile(df.n_hot_rooms,[99])[0]\n",
        "\n",
        "df.n_hot_rooms[df.n_hot_rooms>3*uv] = 3*uv"
      ],
      "execution_count": null,
      "outputs": []
    },
    {
      "cell_type": "code",
      "metadata": {
        "id": "ZdDR9qnDbcfu"
      },
      "source": [
        "lv = np.percentile(df.rainfall,[1])[0]\n",
        "df.rainfall[(df.rainfall < 0.3*lv)] = 0.3*lv"
      ],
      "execution_count": null,
      "outputs": []
    },
    {
      "cell_type": "code",
      "metadata": {
        "id": "rJzCMF2tbzAk"
      },
      "source": [
        "df.n_hos_beds = df.n_hos_beds.fillna(df.n_hos_beds.mean())"
      ],
      "execution_count": null,
      "outputs": []
    },
    {
      "cell_type": "code",
      "metadata": {
        "id": "sbq1hWYkcSD7"
      },
      "source": [
        "df['avg_dist'] = (df.dist1+df.dist2+df.dist3+df.dist4)/4\n",
        "\n",
        "df = df.drop(columns=[\"dist1\", \"dist2\", \"dist3\", \"dist4\"], axis=1)"
      ],
      "execution_count": null,
      "outputs": []
    },
    {
      "cell_type": "code",
      "metadata": {
        "id": "YapT0VQ1ck8A"
      },
      "source": [
        "del df['bus_ter']"
      ],
      "execution_count": null,
      "outputs": []
    },
    {
      "cell_type": "code",
      "metadata": {
        "colab": {
          "base_uri": "https://localhost:8080/",
          "height": 239
        },
        "id": "h7CG6b96csv2",
        "outputId": "8b12a29e-44ab-4f8f-bbaa-53baded13366"
      },
      "source": [
        "df = pd.get_dummies(df)\n",
        "\n",
        "del df['airport_NO']\n",
        "del df['waterbody_None']\n",
        "\n",
        "\n",
        "df.head()"
      ],
      "execution_count": null,
      "outputs": [
        {
          "output_type": "execute_result",
          "data": {
            "text/html": [
              "<div>\n",
              "<style scoped>\n",
              "    .dataframe tbody tr th:only-of-type {\n",
              "        vertical-align: middle;\n",
              "    }\n",
              "\n",
              "    .dataframe tbody tr th {\n",
              "        vertical-align: top;\n",
              "    }\n",
              "\n",
              "    .dataframe thead th {\n",
              "        text-align: right;\n",
              "    }\n",
              "</style>\n",
              "<table border=\"1\" class=\"dataframe\">\n",
              "  <thead>\n",
              "    <tr style=\"text-align: right;\">\n",
              "      <th></th>\n",
              "      <th>price</th>\n",
              "      <th>resid_area</th>\n",
              "      <th>air_qual</th>\n",
              "      <th>room_num</th>\n",
              "      <th>age</th>\n",
              "      <th>teachers</th>\n",
              "      <th>poor_prop</th>\n",
              "      <th>n_hos_beds</th>\n",
              "      <th>n_hot_rooms</th>\n",
              "      <th>rainfall</th>\n",
              "      <th>parks</th>\n",
              "      <th>Sold</th>\n",
              "      <th>avg_dist</th>\n",
              "      <th>airport_YES</th>\n",
              "      <th>waterbody_Lake</th>\n",
              "      <th>waterbody_Lake and River</th>\n",
              "      <th>waterbody_River</th>\n",
              "    </tr>\n",
              "  </thead>\n",
              "  <tbody>\n",
              "    <tr>\n",
              "      <th>0</th>\n",
              "      <td>24.0</td>\n",
              "      <td>32.31</td>\n",
              "      <td>0.538</td>\n",
              "      <td>6.575</td>\n",
              "      <td>65.2</td>\n",
              "      <td>24.7</td>\n",
              "      <td>4.98</td>\n",
              "      <td>5.480</td>\n",
              "      <td>11.19200</td>\n",
              "      <td>23</td>\n",
              "      <td>0.049347</td>\n",
              "      <td>0</td>\n",
              "      <td>4.0875</td>\n",
              "      <td>1</td>\n",
              "      <td>0</td>\n",
              "      <td>0</td>\n",
              "      <td>1</td>\n",
              "    </tr>\n",
              "    <tr>\n",
              "      <th>1</th>\n",
              "      <td>21.6</td>\n",
              "      <td>37.07</td>\n",
              "      <td>0.469</td>\n",
              "      <td>6.421</td>\n",
              "      <td>78.9</td>\n",
              "      <td>22.2</td>\n",
              "      <td>9.14</td>\n",
              "      <td>7.332</td>\n",
              "      <td>12.17280</td>\n",
              "      <td>42</td>\n",
              "      <td>0.046146</td>\n",
              "      <td>1</td>\n",
              "      <td>4.9675</td>\n",
              "      <td>0</td>\n",
              "      <td>1</td>\n",
              "      <td>0</td>\n",
              "      <td>0</td>\n",
              "    </tr>\n",
              "    <tr>\n",
              "      <th>2</th>\n",
              "      <td>34.7</td>\n",
              "      <td>37.07</td>\n",
              "      <td>0.469</td>\n",
              "      <td>7.185</td>\n",
              "      <td>61.1</td>\n",
              "      <td>22.2</td>\n",
              "      <td>4.03</td>\n",
              "      <td>7.394</td>\n",
              "      <td>46.19856</td>\n",
              "      <td>38</td>\n",
              "      <td>0.045764</td>\n",
              "      <td>0</td>\n",
              "      <td>4.9675</td>\n",
              "      <td>0</td>\n",
              "      <td>0</td>\n",
              "      <td>0</td>\n",
              "      <td>0</td>\n",
              "    </tr>\n",
              "    <tr>\n",
              "      <th>3</th>\n",
              "      <td>33.4</td>\n",
              "      <td>32.18</td>\n",
              "      <td>0.458</td>\n",
              "      <td>6.998</td>\n",
              "      <td>45.8</td>\n",
              "      <td>21.3</td>\n",
              "      <td>2.94</td>\n",
              "      <td>9.268</td>\n",
              "      <td>11.26720</td>\n",
              "      <td>45</td>\n",
              "      <td>0.047151</td>\n",
              "      <td>0</td>\n",
              "      <td>6.0650</td>\n",
              "      <td>1</td>\n",
              "      <td>1</td>\n",
              "      <td>0</td>\n",
              "      <td>0</td>\n",
              "    </tr>\n",
              "    <tr>\n",
              "      <th>4</th>\n",
              "      <td>36.2</td>\n",
              "      <td>32.18</td>\n",
              "      <td>0.458</td>\n",
              "      <td>7.147</td>\n",
              "      <td>54.2</td>\n",
              "      <td>21.3</td>\n",
              "      <td>5.33</td>\n",
              "      <td>8.824</td>\n",
              "      <td>11.28960</td>\n",
              "      <td>55</td>\n",
              "      <td>0.039474</td>\n",
              "      <td>0</td>\n",
              "      <td>6.0625</td>\n",
              "      <td>0</td>\n",
              "      <td>1</td>\n",
              "      <td>0</td>\n",
              "      <td>0</td>\n",
              "    </tr>\n",
              "  </tbody>\n",
              "</table>\n",
              "</div>"
            ],
            "text/plain": [
              "   price  resid_area  ...  waterbody_Lake and River  waterbody_River\n",
              "0   24.0       32.31  ...                         0                1\n",
              "1   21.6       37.07  ...                         0                0\n",
              "2   34.7       37.07  ...                         0                0\n",
              "3   33.4       32.18  ...                         0                0\n",
              "4   36.2       32.18  ...                         0                0\n",
              "\n",
              "[5 rows x 17 columns]"
            ]
          },
          "metadata": {
            "tags": []
          },
          "execution_count": 66
        }
      ]
    },
    {
      "cell_type": "code",
      "metadata": {
        "id": "hUYvdgq5pF2y"
      },
      "source": [
        "df.to_csv('/content/drive/MyDrive/Data Science Notes with Example/Data Files/2. ST Academy - Classification models resource files/House-Price_cleaned.csv', index=False)"
      ],
      "execution_count": null,
      "outputs": []
    },
    {
      "cell_type": "markdown",
      "metadata": {
        "id": "oPljp1eez8tS"
      },
      "source": [
        "# Examples"
      ]
    },
    {
      "cell_type": "markdown",
      "metadata": {
        "id": "0WuALR_P0E1H"
      },
      "source": [
        "## Logistic Regression \n",
        "\n",
        "**Importing Data**"
      ]
    },
    {
      "cell_type": "code",
      "metadata": {
        "colab": {
          "base_uri": "https://localhost:8080/",
          "height": 239
        },
        "id": "RnXiOZ-h0M-c",
        "outputId": "8f20ad81-7918-4598-9c59-876e60a18675"
      },
      "source": [
        "df = pd.read_csv(\"/content/drive/MyDrive/Data Science Notes with Example/Data Files/2. ST Academy - Classification models resource files/House-Price_cleaned.csv\")\n",
        "df.head()"
      ],
      "execution_count": 2,
      "outputs": [
        {
          "output_type": "execute_result",
          "data": {
            "text/html": [
              "<div>\n",
              "<style scoped>\n",
              "    .dataframe tbody tr th:only-of-type {\n",
              "        vertical-align: middle;\n",
              "    }\n",
              "\n",
              "    .dataframe tbody tr th {\n",
              "        vertical-align: top;\n",
              "    }\n",
              "\n",
              "    .dataframe thead th {\n",
              "        text-align: right;\n",
              "    }\n",
              "</style>\n",
              "<table border=\"1\" class=\"dataframe\">\n",
              "  <thead>\n",
              "    <tr style=\"text-align: right;\">\n",
              "      <th></th>\n",
              "      <th>price</th>\n",
              "      <th>resid_area</th>\n",
              "      <th>air_qual</th>\n",
              "      <th>room_num</th>\n",
              "      <th>age</th>\n",
              "      <th>teachers</th>\n",
              "      <th>poor_prop</th>\n",
              "      <th>n_hos_beds</th>\n",
              "      <th>n_hot_rooms</th>\n",
              "      <th>rainfall</th>\n",
              "      <th>parks</th>\n",
              "      <th>Sold</th>\n",
              "      <th>avg_dist</th>\n",
              "      <th>airport_YES</th>\n",
              "      <th>waterbody_Lake</th>\n",
              "      <th>waterbody_Lake and River</th>\n",
              "      <th>waterbody_River</th>\n",
              "    </tr>\n",
              "  </thead>\n",
              "  <tbody>\n",
              "    <tr>\n",
              "      <th>0</th>\n",
              "      <td>24.0</td>\n",
              "      <td>32.31</td>\n",
              "      <td>0.538</td>\n",
              "      <td>6.575</td>\n",
              "      <td>65.2</td>\n",
              "      <td>24.7</td>\n",
              "      <td>4.98</td>\n",
              "      <td>5.480</td>\n",
              "      <td>11.19200</td>\n",
              "      <td>23</td>\n",
              "      <td>0.049347</td>\n",
              "      <td>0</td>\n",
              "      <td>4.0875</td>\n",
              "      <td>1</td>\n",
              "      <td>0</td>\n",
              "      <td>0</td>\n",
              "      <td>1</td>\n",
              "    </tr>\n",
              "    <tr>\n",
              "      <th>1</th>\n",
              "      <td>21.6</td>\n",
              "      <td>37.07</td>\n",
              "      <td>0.469</td>\n",
              "      <td>6.421</td>\n",
              "      <td>78.9</td>\n",
              "      <td>22.2</td>\n",
              "      <td>9.14</td>\n",
              "      <td>7.332</td>\n",
              "      <td>12.17280</td>\n",
              "      <td>42</td>\n",
              "      <td>0.046146</td>\n",
              "      <td>1</td>\n",
              "      <td>4.9675</td>\n",
              "      <td>0</td>\n",
              "      <td>1</td>\n",
              "      <td>0</td>\n",
              "      <td>0</td>\n",
              "    </tr>\n",
              "    <tr>\n",
              "      <th>2</th>\n",
              "      <td>34.7</td>\n",
              "      <td>37.07</td>\n",
              "      <td>0.469</td>\n",
              "      <td>7.185</td>\n",
              "      <td>61.1</td>\n",
              "      <td>22.2</td>\n",
              "      <td>4.03</td>\n",
              "      <td>7.394</td>\n",
              "      <td>46.19856</td>\n",
              "      <td>38</td>\n",
              "      <td>0.045764</td>\n",
              "      <td>0</td>\n",
              "      <td>4.9675</td>\n",
              "      <td>0</td>\n",
              "      <td>0</td>\n",
              "      <td>0</td>\n",
              "      <td>0</td>\n",
              "    </tr>\n",
              "    <tr>\n",
              "      <th>3</th>\n",
              "      <td>33.4</td>\n",
              "      <td>32.18</td>\n",
              "      <td>0.458</td>\n",
              "      <td>6.998</td>\n",
              "      <td>45.8</td>\n",
              "      <td>21.3</td>\n",
              "      <td>2.94</td>\n",
              "      <td>9.268</td>\n",
              "      <td>11.26720</td>\n",
              "      <td>45</td>\n",
              "      <td>0.047151</td>\n",
              "      <td>0</td>\n",
              "      <td>6.0650</td>\n",
              "      <td>1</td>\n",
              "      <td>1</td>\n",
              "      <td>0</td>\n",
              "      <td>0</td>\n",
              "    </tr>\n",
              "    <tr>\n",
              "      <th>4</th>\n",
              "      <td>36.2</td>\n",
              "      <td>32.18</td>\n",
              "      <td>0.458</td>\n",
              "      <td>7.147</td>\n",
              "      <td>54.2</td>\n",
              "      <td>21.3</td>\n",
              "      <td>5.33</td>\n",
              "      <td>8.824</td>\n",
              "      <td>11.28960</td>\n",
              "      <td>55</td>\n",
              "      <td>0.039474</td>\n",
              "      <td>0</td>\n",
              "      <td>6.0625</td>\n",
              "      <td>0</td>\n",
              "      <td>1</td>\n",
              "      <td>0</td>\n",
              "      <td>0</td>\n",
              "    </tr>\n",
              "  </tbody>\n",
              "</table>\n",
              "</div>"
            ],
            "text/plain": [
              "   price  resid_area  ...  waterbody_Lake and River  waterbody_River\n",
              "0   24.0       32.31  ...                         0                1\n",
              "1   21.6       37.07  ...                         0                0\n",
              "2   34.7       37.07  ...                         0                0\n",
              "3   33.4       32.18  ...                         0                0\n",
              "4   36.2       32.18  ...                         0                0\n",
              "\n",
              "[5 rows x 17 columns]"
            ]
          },
          "metadata": {
            "tags": []
          },
          "execution_count": 2
        }
      ]
    },
    {
      "cell_type": "markdown",
      "metadata": {
        "id": "nHqpEycm0C4U"
      },
      "source": [
        "1. **Prediction Question:**\n",
        "Will the house pe sold within three months of getting listed?\n",
        "\n",
        "2. **Inferential Question:**\n",
        "How accurately can we estimate the effect of each if the predictor variables on the response variable?"
      ]
    },
    {
      "cell_type": "markdown",
      "metadata": {
        "id": "LvLCPQrc060Z"
      },
      "source": [
        "**Using one variable for classification**"
      ]
    },
    {
      "cell_type": "code",
      "metadata": {
        "id": "eNHz8Y22z0Fi"
      },
      "source": [
        "X = df[[\"price\"]]\n",
        "y = df[\"Sold\"]"
      ],
      "execution_count": 3,
      "outputs": []
    },
    {
      "cell_type": "markdown",
      "metadata": {
        "id": "ValQT1ix92St"
      },
      "source": [
        "**Using Sklearn library**"
      ]
    },
    {
      "cell_type": "code",
      "metadata": {
        "id": "brve__p_peju"
      },
      "source": [
        "# import Logistic regression model\n",
        "from sklearn.linear_model import LogisticRegression"
      ],
      "execution_count": null,
      "outputs": []
    },
    {
      "cell_type": "code",
      "metadata": {
        "colab": {
          "base_uri": "https://localhost:8080/"
        },
        "id": "R_bhy2m21PrX",
        "outputId": "5c3a4a41-309d-4ecb-dea6-69e31b6c7db1"
      },
      "source": [
        "# object of Logistic regression\n",
        "clf_lrs = LogisticRegression()\n",
        "\n",
        "# Fitting the model\n",
        "clf_lrs.fit(X,y)"
      ],
      "execution_count": null,
      "outputs": [
        {
          "output_type": "execute_result",
          "data": {
            "text/plain": [
              "LogisticRegression(C=1.0, class_weight=None, dual=False, fit_intercept=True,\n",
              "                   intercept_scaling=1, l1_ratio=None, max_iter=100,\n",
              "                   multi_class='auto', n_jobs=None, penalty='l2',\n",
              "                   random_state=None, solver='lbfgs', tol=0.0001, verbose=0,\n",
              "                   warm_start=False)"
            ]
          },
          "metadata": {
            "tags": []
          },
          "execution_count": 75
        }
      ]
    },
    {
      "cell_type": "code",
      "metadata": {
        "colab": {
          "base_uri": "https://localhost:8080/"
        },
        "id": "kKyGwmKd1Snp",
        "outputId": "0ba9e68b-942f-4975-cb8d-6af8eb106844"
      },
      "source": [
        "# printing coefficient and intercept\n",
        "clf_lrs.coef_, clf_lrs.intercept_"
      ],
      "execution_count": null,
      "outputs": [
        {
          "output_type": "execute_result",
          "data": {
            "text/plain": [
              "(array([[-0.03571865]]), array([0.61477516]))"
            ]
          },
          "metadata": {
            "tags": []
          },
          "execution_count": 76
        }
      ]
    },
    {
      "cell_type": "markdown",
      "metadata": {
        "id": "3JL_RXLC95_H"
      },
      "source": [
        "**Using Statsmodel**"
      ]
    },
    {
      "cell_type": "code",
      "metadata": {
        "id": "zOvz3Aun9trD"
      },
      "source": [
        "# import library\n",
        "import statsmodels.api as sn\n",
        "import statsmodels.discrete.discrete_model as sm"
      ],
      "execution_count": null,
      "outputs": []
    },
    {
      "cell_type": "code",
      "metadata": {
        "colab": {
          "base_uri": "https://localhost:8080/",
          "height": 202
        },
        "id": "iB71TP1--rTK",
        "outputId": "63d62721-d2a5-4f8c-9921-ab2ab2486f80"
      },
      "source": [
        "# Adding constant variable on train data\n",
        "X_cons = sn.add_constant(X)\n",
        "X_cons.head()"
      ],
      "execution_count": null,
      "outputs": [
        {
          "output_type": "execute_result",
          "data": {
            "text/html": [
              "<div>\n",
              "<style scoped>\n",
              "    .dataframe tbody tr th:only-of-type {\n",
              "        vertical-align: middle;\n",
              "    }\n",
              "\n",
              "    .dataframe tbody tr th {\n",
              "        vertical-align: top;\n",
              "    }\n",
              "\n",
              "    .dataframe thead th {\n",
              "        text-align: right;\n",
              "    }\n",
              "</style>\n",
              "<table border=\"1\" class=\"dataframe\">\n",
              "  <thead>\n",
              "    <tr style=\"text-align: right;\">\n",
              "      <th></th>\n",
              "      <th>const</th>\n",
              "      <th>price</th>\n",
              "    </tr>\n",
              "  </thead>\n",
              "  <tbody>\n",
              "    <tr>\n",
              "      <th>0</th>\n",
              "      <td>1.0</td>\n",
              "      <td>24.0</td>\n",
              "    </tr>\n",
              "    <tr>\n",
              "      <th>1</th>\n",
              "      <td>1.0</td>\n",
              "      <td>21.6</td>\n",
              "    </tr>\n",
              "    <tr>\n",
              "      <th>2</th>\n",
              "      <td>1.0</td>\n",
              "      <td>34.7</td>\n",
              "    </tr>\n",
              "    <tr>\n",
              "      <th>3</th>\n",
              "      <td>1.0</td>\n",
              "      <td>33.4</td>\n",
              "    </tr>\n",
              "    <tr>\n",
              "      <th>4</th>\n",
              "      <td>1.0</td>\n",
              "      <td>36.2</td>\n",
              "    </tr>\n",
              "  </tbody>\n",
              "</table>\n",
              "</div>"
            ],
            "text/plain": [
              "   const  price\n",
              "0    1.0   24.0\n",
              "1    1.0   21.6\n",
              "2    1.0   34.7\n",
              "3    1.0   33.4\n",
              "4    1.0   36.2"
            ]
          },
          "metadata": {
            "tags": []
          },
          "execution_count": 79
        }
      ]
    },
    {
      "cell_type": "code",
      "metadata": {
        "colab": {
          "base_uri": "https://localhost:8080/"
        },
        "id": "5MhpAsDQ-4Sz",
        "outputId": "9a8ba1c6-0e11-4300-e8d5-10e30dbbd15c"
      },
      "source": [
        "# fitting \n",
        "logit = sm.Logit(y,X_cons).fit()"
      ],
      "execution_count": null,
      "outputs": [
        {
          "output_type": "stream",
          "text": [
            "Optimization terminated successfully.\n",
            "         Current function value: 0.676690\n",
            "         Iterations 5\n"
          ],
          "name": "stdout"
        }
      ]
    },
    {
      "cell_type": "code",
      "metadata": {
        "colab": {
          "base_uri": "https://localhost:8080/",
          "height": 245
        },
        "id": "aMG7IGAl_JuS",
        "outputId": "71519d06-a43e-4f7f-9d49-4365d3bf032c"
      },
      "source": [
        "# summary of logit model\n",
        "logit.summary()"
      ],
      "execution_count": null,
      "outputs": [
        {
          "output_type": "execute_result",
          "data": {
            "text/html": [
              "<table class=\"simpletable\">\n",
              "<caption>Logit Regression Results</caption>\n",
              "<tr>\n",
              "  <th>Dep. Variable:</th>         <td>Sold</td>       <th>  No. Observations:  </th>  <td>   506</td>  \n",
              "</tr>\n",
              "<tr>\n",
              "  <th>Model:</th>                 <td>Logit</td>      <th>  Df Residuals:      </th>  <td>   504</td>  \n",
              "</tr>\n",
              "<tr>\n",
              "  <th>Method:</th>                 <td>MLE</td>       <th>  Df Model:          </th>  <td>     1</td>  \n",
              "</tr>\n",
              "<tr>\n",
              "  <th>Date:</th>            <td>Tue, 08 Jun 2021</td> <th>  Pseudo R-squ.:     </th>  <td>0.01788</td> \n",
              "</tr>\n",
              "<tr>\n",
              "  <th>Time:</th>                <td>09:38:32</td>     <th>  Log-Likelihood:    </th> <td> -342.41</td> \n",
              "</tr>\n",
              "<tr>\n",
              "  <th>converged:</th>             <td>True</td>       <th>  LL-Null:           </th> <td> -348.64</td> \n",
              "</tr>\n",
              "<tr>\n",
              "  <th>Covariance Type:</th>     <td>nonrobust</td>    <th>  LLR p-value:       </th> <td>0.0004142</td>\n",
              "</tr>\n",
              "</table>\n",
              "<table class=\"simpletable\">\n",
              "<tr>\n",
              "    <td></td>       <th>coef</th>     <th>std err</th>      <th>z</th>      <th>P>|z|</th>  <th>[0.025</th>    <th>0.975]</th>  \n",
              "</tr>\n",
              "<tr>\n",
              "  <th>const</th> <td>    0.6149</td> <td>    0.248</td> <td>    2.484</td> <td> 0.013</td> <td>    0.130</td> <td>    1.100</td>\n",
              "</tr>\n",
              "<tr>\n",
              "  <th>price</th> <td>   -0.0357</td> <td>    0.010</td> <td>   -3.417</td> <td> 0.001</td> <td>   -0.056</td> <td>   -0.015</td>\n",
              "</tr>\n",
              "</table>"
            ],
            "text/plain": [
              "<class 'statsmodels.iolib.summary.Summary'>\n",
              "\"\"\"\n",
              "                           Logit Regression Results                           \n",
              "==============================================================================\n",
              "Dep. Variable:                   Sold   No. Observations:                  506\n",
              "Model:                          Logit   Df Residuals:                      504\n",
              "Method:                           MLE   Df Model:                            1\n",
              "Date:                Tue, 08 Jun 2021   Pseudo R-squ.:                 0.01788\n",
              "Time:                        09:38:32   Log-Likelihood:                -342.41\n",
              "converged:                       True   LL-Null:                       -348.64\n",
              "Covariance Type:            nonrobust   LLR p-value:                 0.0004142\n",
              "==============================================================================\n",
              "                 coef    std err          z      P>|z|      [0.025      0.975]\n",
              "------------------------------------------------------------------------------\n",
              "const          0.6149      0.248      2.484      0.013       0.130       1.100\n",
              "price         -0.0357      0.010     -3.417      0.001      -0.056      -0.015\n",
              "==============================================================================\n",
              "\"\"\""
            ]
          },
          "metadata": {
            "tags": []
          },
          "execution_count": 81
        }
      ]
    },
    {
      "cell_type": "markdown",
      "metadata": {
        "id": "I8a8VTnUQvnw"
      },
      "source": [
        "## Prediction and Confusion Matrix"
      ]
    },
    {
      "cell_type": "code",
      "metadata": {
        "id": "ZadU3T27RDrW"
      },
      "source": [
        "# predicting on X data and assigning True to probability greater than 0.5 value and storing on y_pred\n",
        "y_pred = (clf_lrs.predict_proba(X)[:,1]>=0.5)"
      ],
      "execution_count": null,
      "outputs": []
    },
    {
      "cell_type": "code",
      "metadata": {
        "colab": {
          "base_uri": "https://localhost:8080/"
        },
        "id": "z8nKU9XwRljf",
        "outputId": "09e547a0-97eb-4c65-c0c1-ee4ce392ba7b"
      },
      "source": [
        "# confusion matrix\n",
        "from sklearn.metrics import confusion_matrix\n",
        "\n",
        "confusion_matrix(y,y_pred)"
      ],
      "execution_count": null,
      "outputs": [
        {
          "output_type": "execute_result",
          "data": {
            "text/plain": [
              "array([[208,  68],\n",
              "       [165,  65]])"
            ]
          },
          "metadata": {
            "tags": []
          },
          "execution_count": 94
        }
      ]
    },
    {
      "cell_type": "code",
      "metadata": {
        "id": "N0Mka4lhRlSl"
      },
      "source": [
        "# importing libraries\n",
        "from sklearn.metrics import precision_score, recall_score, roc_auc_score"
      ],
      "execution_count": null,
      "outputs": []
    },
    {
      "cell_type": "code",
      "metadata": {
        "colab": {
          "base_uri": "https://localhost:8080/"
        },
        "id": "_8ry3X7daGSC",
        "outputId": "21d92b6d-8313-496f-a1e5-9c946d2238ee"
      },
      "source": [
        "# precission score\n",
        "precision_score(y,y_pred)"
      ],
      "execution_count": null,
      "outputs": [
        {
          "output_type": "execute_result",
          "data": {
            "text/plain": [
              "0.48872180451127817"
            ]
          },
          "metadata": {
            "tags": []
          },
          "execution_count": 96
        }
      ]
    },
    {
      "cell_type": "code",
      "metadata": {
        "colab": {
          "base_uri": "https://localhost:8080/"
        },
        "id": "L1ir6kSQaGH1",
        "outputId": "415112f5-e9e6-4ee2-f61f-b5ce5ebf0951"
      },
      "source": [
        "# recall score\n",
        "recall_score(y,y_pred)"
      ],
      "execution_count": null,
      "outputs": [
        {
          "output_type": "execute_result",
          "data": {
            "text/plain": [
              "0.2826086956521739"
            ]
          },
          "metadata": {
            "tags": []
          },
          "execution_count": 97
        }
      ]
    },
    {
      "cell_type": "code",
      "metadata": {
        "colab": {
          "base_uri": "https://localhost:8080/"
        },
        "id": "9YOdO_TNaF-G",
        "outputId": "eecf20c0-4650-41d2-f385-c7cc1a5b9e0b"
      },
      "source": [
        "# roc auc score\n",
        "roc_auc_score(y,y_pred)"
      ],
      "execution_count": null,
      "outputs": [
        {
          "output_type": "execute_result",
          "data": {
            "text/plain": [
              "0.5181159420289855"
            ]
          },
          "metadata": {
            "tags": []
          },
          "execution_count": 98
        }
      ]
    },
    {
      "cell_type": "markdown",
      "metadata": {
        "id": "87A8tz4m_pIE"
      },
      "source": [
        "## Logistic Regression for multiple predictor"
      ]
    },
    {
      "cell_type": "code",
      "metadata": {
        "id": "3rCgJXgR_N4j"
      },
      "source": [
        "# data\n",
        "X = df.loc[:,df.columns != \"Sold\"]\n",
        "y = df[\"Sold\"]"
      ],
      "execution_count": null,
      "outputs": []
    },
    {
      "cell_type": "markdown",
      "metadata": {
        "id": "JowzQ3HtHGkd"
      },
      "source": [
        "**Using Sklearn**"
      ]
    },
    {
      "cell_type": "code",
      "metadata": {
        "id": "Ls5PWnhnGo1m"
      },
      "source": [
        "# import Logistic regression model\n",
        "from sklearn.linear_model import LogisticRegression"
      ],
      "execution_count": null,
      "outputs": []
    },
    {
      "cell_type": "code",
      "metadata": {
        "colab": {
          "base_uri": "https://localhost:8080/"
        },
        "id": "dM1uTCgJGuIo",
        "outputId": "f90fb63d-ca6a-4482-c7ae-2ed24ac2aeb7"
      },
      "source": [
        "# object of Logistic regression\n",
        "clf_lr = LogisticRegression()\n",
        "\n",
        "# Fitting the model\n",
        "clf_lr.fit(X,y)"
      ],
      "execution_count": null,
      "outputs": [
        {
          "output_type": "execute_result",
          "data": {
            "text/plain": [
              "LogisticRegression(C=1.0, class_weight=None, dual=False, fit_intercept=True,\n",
              "                   intercept_scaling=1, l1_ratio=None, max_iter=100,\n",
              "                   multi_class='auto', n_jobs=None, penalty='l2',\n",
              "                   random_state=None, solver='lbfgs', tol=0.0001, verbose=0,\n",
              "                   warm_start=False)"
            ]
          },
          "metadata": {
            "tags": []
          },
          "execution_count": 85
        }
      ]
    },
    {
      "cell_type": "markdown",
      "metadata": {
        "id": "Ji0avXukHI5d"
      },
      "source": [
        "**Using statsmodels**"
      ]
    },
    {
      "cell_type": "code",
      "metadata": {
        "id": "0czxa7YsG9NY"
      },
      "source": [
        "# importing libraries\n",
        "import statsmodels.api as sn\n",
        "import statsmodels.discrete.discrete_model as sm"
      ],
      "execution_count": null,
      "outputs": []
    },
    {
      "cell_type": "code",
      "metadata": {
        "colab": {
          "base_uri": "https://localhost:8080/",
          "height": 239
        },
        "id": "uG9bCYLmHRjk",
        "outputId": "1af59b69-310a-448f-c9fc-ded98a77fab9"
      },
      "source": [
        "# adding constant variable to train data\n",
        "X_cons = sn.add_constant(X)\n",
        "y = df[\"Sold\"]\n",
        "X_cons.head()"
      ],
      "execution_count": null,
      "outputs": [
        {
          "output_type": "execute_result",
          "data": {
            "text/html": [
              "<div>\n",
              "<style scoped>\n",
              "    .dataframe tbody tr th:only-of-type {\n",
              "        vertical-align: middle;\n",
              "    }\n",
              "\n",
              "    .dataframe tbody tr th {\n",
              "        vertical-align: top;\n",
              "    }\n",
              "\n",
              "    .dataframe thead th {\n",
              "        text-align: right;\n",
              "    }\n",
              "</style>\n",
              "<table border=\"1\" class=\"dataframe\">\n",
              "  <thead>\n",
              "    <tr style=\"text-align: right;\">\n",
              "      <th></th>\n",
              "      <th>const</th>\n",
              "      <th>price</th>\n",
              "      <th>resid_area</th>\n",
              "      <th>air_qual</th>\n",
              "      <th>room_num</th>\n",
              "      <th>age</th>\n",
              "      <th>teachers</th>\n",
              "      <th>poor_prop</th>\n",
              "      <th>n_hos_beds</th>\n",
              "      <th>n_hot_rooms</th>\n",
              "      <th>rainfall</th>\n",
              "      <th>parks</th>\n",
              "      <th>avg_dist</th>\n",
              "      <th>airport_YES</th>\n",
              "      <th>waterbody_Lake</th>\n",
              "      <th>waterbody_Lake and River</th>\n",
              "      <th>waterbody_River</th>\n",
              "    </tr>\n",
              "  </thead>\n",
              "  <tbody>\n",
              "    <tr>\n",
              "      <th>0</th>\n",
              "      <td>1.0</td>\n",
              "      <td>24.0</td>\n",
              "      <td>32.31</td>\n",
              "      <td>0.538</td>\n",
              "      <td>6.575</td>\n",
              "      <td>65.2</td>\n",
              "      <td>24.7</td>\n",
              "      <td>4.98</td>\n",
              "      <td>5.480</td>\n",
              "      <td>11.19200</td>\n",
              "      <td>23</td>\n",
              "      <td>0.049347</td>\n",
              "      <td>4.0875</td>\n",
              "      <td>1</td>\n",
              "      <td>0</td>\n",
              "      <td>0</td>\n",
              "      <td>1</td>\n",
              "    </tr>\n",
              "    <tr>\n",
              "      <th>1</th>\n",
              "      <td>1.0</td>\n",
              "      <td>21.6</td>\n",
              "      <td>37.07</td>\n",
              "      <td>0.469</td>\n",
              "      <td>6.421</td>\n",
              "      <td>78.9</td>\n",
              "      <td>22.2</td>\n",
              "      <td>9.14</td>\n",
              "      <td>7.332</td>\n",
              "      <td>12.17280</td>\n",
              "      <td>42</td>\n",
              "      <td>0.046146</td>\n",
              "      <td>4.9675</td>\n",
              "      <td>0</td>\n",
              "      <td>1</td>\n",
              "      <td>0</td>\n",
              "      <td>0</td>\n",
              "    </tr>\n",
              "    <tr>\n",
              "      <th>2</th>\n",
              "      <td>1.0</td>\n",
              "      <td>34.7</td>\n",
              "      <td>37.07</td>\n",
              "      <td>0.469</td>\n",
              "      <td>7.185</td>\n",
              "      <td>61.1</td>\n",
              "      <td>22.2</td>\n",
              "      <td>4.03</td>\n",
              "      <td>7.394</td>\n",
              "      <td>46.19856</td>\n",
              "      <td>38</td>\n",
              "      <td>0.045764</td>\n",
              "      <td>4.9675</td>\n",
              "      <td>0</td>\n",
              "      <td>0</td>\n",
              "      <td>0</td>\n",
              "      <td>0</td>\n",
              "    </tr>\n",
              "    <tr>\n",
              "      <th>3</th>\n",
              "      <td>1.0</td>\n",
              "      <td>33.4</td>\n",
              "      <td>32.18</td>\n",
              "      <td>0.458</td>\n",
              "      <td>6.998</td>\n",
              "      <td>45.8</td>\n",
              "      <td>21.3</td>\n",
              "      <td>2.94</td>\n",
              "      <td>9.268</td>\n",
              "      <td>11.26720</td>\n",
              "      <td>45</td>\n",
              "      <td>0.047151</td>\n",
              "      <td>6.0650</td>\n",
              "      <td>1</td>\n",
              "      <td>1</td>\n",
              "      <td>0</td>\n",
              "      <td>0</td>\n",
              "    </tr>\n",
              "    <tr>\n",
              "      <th>4</th>\n",
              "      <td>1.0</td>\n",
              "      <td>36.2</td>\n",
              "      <td>32.18</td>\n",
              "      <td>0.458</td>\n",
              "      <td>7.147</td>\n",
              "      <td>54.2</td>\n",
              "      <td>21.3</td>\n",
              "      <td>5.33</td>\n",
              "      <td>8.824</td>\n",
              "      <td>11.28960</td>\n",
              "      <td>55</td>\n",
              "      <td>0.039474</td>\n",
              "      <td>6.0625</td>\n",
              "      <td>0</td>\n",
              "      <td>1</td>\n",
              "      <td>0</td>\n",
              "      <td>0</td>\n",
              "    </tr>\n",
              "  </tbody>\n",
              "</table>\n",
              "</div>"
            ],
            "text/plain": [
              "   const  price  ...  waterbody_Lake and River  waterbody_River\n",
              "0    1.0   24.0  ...                         0                1\n",
              "1    1.0   21.6  ...                         0                0\n",
              "2    1.0   34.7  ...                         0                0\n",
              "3    1.0   33.4  ...                         0                0\n",
              "4    1.0   36.2  ...                         0                0\n",
              "\n",
              "[5 rows x 17 columns]"
            ]
          },
          "metadata": {
            "tags": []
          },
          "execution_count": 87
        }
      ]
    },
    {
      "cell_type": "code",
      "metadata": {
        "colab": {
          "base_uri": "https://localhost:8080/"
        },
        "id": "va4OcNVgHZHy",
        "outputId": "7d124197-17d5-45b7-928d-7fd6f81bf051"
      },
      "source": [
        "# fitting logit model\n",
        "logit = sm.Logit(y,X_cons).fit()"
      ],
      "execution_count": null,
      "outputs": [
        {
          "output_type": "stream",
          "text": [
            "Optimization terminated successfully.\n",
            "         Current function value: 0.556433\n",
            "         Iterations 6\n"
          ],
          "name": "stdout"
        }
      ]
    },
    {
      "cell_type": "code",
      "metadata": {
        "colab": {
          "base_uri": "https://localhost:8080/",
          "height": 555
        },
        "id": "tkkYz_emHdFk",
        "outputId": "88b51184-2365-4ba6-f2cf-5c07e2a5f8c5"
      },
      "source": [
        "# summary of logit model\n",
        "logit.summary()"
      ],
      "execution_count": null,
      "outputs": [
        {
          "output_type": "execute_result",
          "data": {
            "text/html": [
              "<table class=\"simpletable\">\n",
              "<caption>Logit Regression Results</caption>\n",
              "<tr>\n",
              "  <th>Dep. Variable:</th>         <td>Sold</td>       <th>  No. Observations:  </th>  <td>   506</td>  \n",
              "</tr>\n",
              "<tr>\n",
              "  <th>Model:</th>                 <td>Logit</td>      <th>  Df Residuals:      </th>  <td>   489</td>  \n",
              "</tr>\n",
              "<tr>\n",
              "  <th>Method:</th>                 <td>MLE</td>       <th>  Df Model:          </th>  <td>    16</td>  \n",
              "</tr>\n",
              "<tr>\n",
              "  <th>Date:</th>            <td>Tue, 08 Jun 2021</td> <th>  Pseudo R-squ.:     </th>  <td>0.1924</td>  \n",
              "</tr>\n",
              "<tr>\n",
              "  <th>Time:</th>                <td>10:14:41</td>     <th>  Log-Likelihood:    </th> <td> -281.56</td> \n",
              "</tr>\n",
              "<tr>\n",
              "  <th>converged:</th>             <td>True</td>       <th>  LL-Null:           </th> <td> -348.64</td> \n",
              "</tr>\n",
              "<tr>\n",
              "  <th>Covariance Type:</th>     <td>nonrobust</td>    <th>  LLR p-value:       </th> <td>9.930e-21</td>\n",
              "</tr>\n",
              "</table>\n",
              "<table class=\"simpletable\">\n",
              "<tr>\n",
              "              <td></td>                <th>coef</th>     <th>std err</th>      <th>z</th>      <th>P>|z|</th>  <th>[0.025</th>    <th>0.975]</th>  \n",
              "</tr>\n",
              "<tr>\n",
              "  <th>const</th>                    <td>   -2.1383</td> <td>    2.649</td> <td>   -0.807</td> <td> 0.420</td> <td>   -7.331</td> <td>    3.054</td>\n",
              "</tr>\n",
              "<tr>\n",
              "  <th>price</th>                    <td>   -0.2741</td> <td>    0.033</td> <td>   -8.313</td> <td> 0.000</td> <td>   -0.339</td> <td>   -0.209</td>\n",
              "</tr>\n",
              "<tr>\n",
              "  <th>resid_area</th>               <td>    0.0192</td> <td>    0.027</td> <td>    0.720</td> <td> 0.471</td> <td>   -0.033</td> <td>    0.071</td>\n",
              "</tr>\n",
              "<tr>\n",
              "  <th>air_qual</th>                 <td>   -7.4183</td> <td>    2.691</td> <td>   -2.757</td> <td> 0.006</td> <td>  -12.693</td> <td>   -2.144</td>\n",
              "</tr>\n",
              "<tr>\n",
              "  <th>room_num</th>                 <td>    1.1067</td> <td>    0.277</td> <td>    4.001</td> <td> 0.000</td> <td>    0.565</td> <td>    1.649</td>\n",
              "</tr>\n",
              "<tr>\n",
              "  <th>age</th>                      <td>   -0.0020</td> <td>    0.007</td> <td>   -0.302</td> <td> 0.762</td> <td>   -0.015</td> <td>    0.011</td>\n",
              "</tr>\n",
              "<tr>\n",
              "  <th>teachers</th>                 <td>    0.3150</td> <td>    0.064</td> <td>    4.937</td> <td> 0.000</td> <td>    0.190</td> <td>    0.440</td>\n",
              "</tr>\n",
              "<tr>\n",
              "  <th>poor_prop</th>                <td>   -0.2077</td> <td>    0.034</td> <td>   -6.149</td> <td> 0.000</td> <td>   -0.274</td> <td>   -0.141</td>\n",
              "</tr>\n",
              "<tr>\n",
              "  <th>n_hos_beds</th>               <td>    0.1760</td> <td>    0.071</td> <td>    2.467</td> <td> 0.014</td> <td>    0.036</td> <td>    0.316</td>\n",
              "</tr>\n",
              "<tr>\n",
              "  <th>n_hot_rooms</th>              <td>   -0.0742</td> <td>    0.052</td> <td>   -1.439</td> <td> 0.150</td> <td>   -0.175</td> <td>    0.027</td>\n",
              "</tr>\n",
              "<tr>\n",
              "  <th>rainfall</th>                 <td>   -0.0033</td> <td>    0.008</td> <td>   -0.394</td> <td> 0.693</td> <td>   -0.020</td> <td>    0.013</td>\n",
              "</tr>\n",
              "<tr>\n",
              "  <th>parks</th>                    <td>   29.1089</td> <td>   24.177</td> <td>    1.204</td> <td> 0.229</td> <td>  -18.277</td> <td>   76.495</td>\n",
              "</tr>\n",
              "<tr>\n",
              "  <th>avg_dist</th>                 <td>   -0.4017</td> <td>    0.098</td> <td>   -4.118</td> <td> 0.000</td> <td>   -0.593</td> <td>   -0.211</td>\n",
              "</tr>\n",
              "<tr>\n",
              "  <th>airport_YES</th>              <td>   -0.1524</td> <td>    0.211</td> <td>   -0.723</td> <td> 0.469</td> <td>   -0.565</td> <td>    0.261</td>\n",
              "</tr>\n",
              "<tr>\n",
              "  <th>waterbody_Lake</th>           <td>   -0.1032</td> <td>    0.304</td> <td>   -0.340</td> <td> 0.734</td> <td>   -0.698</td> <td>    0.492</td>\n",
              "</tr>\n",
              "<tr>\n",
              "  <th>waterbody_Lake and River</th> <td>   -0.0626</td> <td>    0.328</td> <td>   -0.191</td> <td> 0.849</td> <td>   -0.705</td> <td>    0.580</td>\n",
              "</tr>\n",
              "<tr>\n",
              "  <th>waterbody_River</th>          <td>    0.2394</td> <td>    0.256</td> <td>    0.937</td> <td> 0.349</td> <td>   -0.262</td> <td>    0.740</td>\n",
              "</tr>\n",
              "</table>"
            ],
            "text/plain": [
              "<class 'statsmodels.iolib.summary.Summary'>\n",
              "\"\"\"\n",
              "                           Logit Regression Results                           \n",
              "==============================================================================\n",
              "Dep. Variable:                   Sold   No. Observations:                  506\n",
              "Model:                          Logit   Df Residuals:                      489\n",
              "Method:                           MLE   Df Model:                           16\n",
              "Date:                Tue, 08 Jun 2021   Pseudo R-squ.:                  0.1924\n",
              "Time:                        10:14:41   Log-Likelihood:                -281.56\n",
              "converged:                       True   LL-Null:                       -348.64\n",
              "Covariance Type:            nonrobust   LLR p-value:                 9.930e-21\n",
              "============================================================================================\n",
              "                               coef    std err          z      P>|z|      [0.025      0.975]\n",
              "--------------------------------------------------------------------------------------------\n",
              "const                       -2.1383      2.649     -0.807      0.420      -7.331       3.054\n",
              "price                       -0.2741      0.033     -8.313      0.000      -0.339      -0.209\n",
              "resid_area                   0.0192      0.027      0.720      0.471      -0.033       0.071\n",
              "air_qual                    -7.4183      2.691     -2.757      0.006     -12.693      -2.144\n",
              "room_num                     1.1067      0.277      4.001      0.000       0.565       1.649\n",
              "age                         -0.0020      0.007     -0.302      0.762      -0.015       0.011\n",
              "teachers                     0.3150      0.064      4.937      0.000       0.190       0.440\n",
              "poor_prop                   -0.2077      0.034     -6.149      0.000      -0.274      -0.141\n",
              "n_hos_beds                   0.1760      0.071      2.467      0.014       0.036       0.316\n",
              "n_hot_rooms                 -0.0742      0.052     -1.439      0.150      -0.175       0.027\n",
              "rainfall                    -0.0033      0.008     -0.394      0.693      -0.020       0.013\n",
              "parks                       29.1089     24.177      1.204      0.229     -18.277      76.495\n",
              "avg_dist                    -0.4017      0.098     -4.118      0.000      -0.593      -0.211\n",
              "airport_YES                 -0.1524      0.211     -0.723      0.469      -0.565       0.261\n",
              "waterbody_Lake              -0.1032      0.304     -0.340      0.734      -0.698       0.492\n",
              "waterbody_Lake and River    -0.0626      0.328     -0.191      0.849      -0.705       0.580\n",
              "waterbody_River              0.2394      0.256      0.937      0.349      -0.262       0.740\n",
              "============================================================================================\n",
              "\"\"\""
            ]
          },
          "metadata": {
            "tags": []
          },
          "execution_count": 89
        }
      ]
    },
    {
      "cell_type": "markdown",
      "metadata": {
        "id": "0SYDxWcEfXvN"
      },
      "source": [
        "## Linear Discriminant Analysis"
      ]
    },
    {
      "cell_type": "code",
      "metadata": {
        "id": "2bU5KXHpHfZv"
      },
      "source": [
        "# importing LDA\n",
        "from sklearn.discriminant_analysis import LinearDiscriminantAnalysis\n",
        "from sklearn.model_selection import train_test_split"
      ],
      "execution_count": null,
      "outputs": []
    },
    {
      "cell_type": "code",
      "metadata": {
        "id": "1ieDG9Y5f-3j"
      },
      "source": [
        "# read csv data\n",
        "df = pd.read_csv(\"/content/drive/MyDrive/Data Science Notes with Example/Data Files/2. ST Academy - Classification models resource files/House-Price_cleaned.csv\")\n",
        "\n",
        "# predictor variable\n",
        "X = df.loc[:,df.columns != \"Sold\"]\n",
        "\n",
        "# response variable\n",
        "y = df[\"Sold\"]"
      ],
      "execution_count": null,
      "outputs": []
    },
    {
      "cell_type": "code",
      "metadata": {
        "id": "nWtD-EL8j6I-"
      },
      "source": [
        "# train test split\n",
        "X_train, X_test, y_train, y_test = train_test_split(X, y, test_size=0.2, random_state=42)"
      ],
      "execution_count": null,
      "outputs": []
    },
    {
      "cell_type": "code",
      "metadata": {
        "colab": {
          "base_uri": "https://localhost:8080/"
        },
        "id": "1HfTl_4wfvbl",
        "outputId": "357254ac-ac43-4cb9-b1ca-352dab98d7bc"
      },
      "source": [
        "# object of LDA\n",
        "clf_lda = LinearDiscriminantAnalysis()\n",
        "\n",
        "# fitting on X and y data\n",
        "clf_lda.fit(X_train,y_train)"
      ],
      "execution_count": null,
      "outputs": [
        {
          "output_type": "execute_result",
          "data": {
            "text/plain": [
              "LinearDiscriminantAnalysis(n_components=None, priors=None, shrinkage=None,\n",
              "                           solver='svd', store_covariance=False, tol=0.0001)"
            ]
          },
          "metadata": {
            "tags": []
          },
          "execution_count": 16
        }
      ]
    },
    {
      "cell_type": "code",
      "metadata": {
        "id": "tqSY7wCngqbF"
      },
      "source": [
        "# predicting \n",
        "y_pred_lda = clf_lda.predict(X_test)"
      ],
      "execution_count": null,
      "outputs": []
    },
    {
      "cell_type": "code",
      "metadata": {
        "colab": {
          "base_uri": "https://localhost:8080/"
        },
        "id": "1_Zc4yT9g_vw",
        "outputId": "80de79b7-18e7-4f59-e04b-ee5681ceb6b0"
      },
      "source": [
        "# importing libraries\n",
        "from sklearn.metrics import confusion_matrix, roc_auc_score, accuracy_score\n",
        "\n",
        "confusion_matrix(y_test, y_pred_lda)"
      ],
      "execution_count": null,
      "outputs": [
        {
          "output_type": "execute_result",
          "data": {
            "text/plain": [
              "array([[41, 19],\n",
              "       [11, 31]])"
            ]
          },
          "metadata": {
            "tags": []
          },
          "execution_count": 18
        }
      ]
    },
    {
      "cell_type": "code",
      "metadata": {
        "colab": {
          "base_uri": "https://localhost:8080/"
        },
        "id": "9vQKKelliDsa",
        "outputId": "3cf1a9f7-7aed-4cbd-c824-3fcd0246e262"
      },
      "source": [
        "accuracy_score(y_test, y_pred_lda)"
      ],
      "execution_count": null,
      "outputs": [
        {
          "output_type": "execute_result",
          "data": {
            "text/plain": [
              "0.7058823529411765"
            ]
          },
          "metadata": {
            "tags": []
          },
          "execution_count": 19
        }
      ]
    },
    {
      "cell_type": "code",
      "metadata": {
        "colab": {
          "base_uri": "https://localhost:8080/"
        },
        "id": "f9JvZKSWhBbU",
        "outputId": "e323239e-ef53-4de9-87c0-5917bdaeee4f"
      },
      "source": [
        "roc_auc_score(y_test, y_pred_lda)"
      ],
      "execution_count": null,
      "outputs": [
        {
          "output_type": "execute_result",
          "data": {
            "text/plain": [
              "0.7107142857142857"
            ]
          },
          "metadata": {
            "tags": []
          },
          "execution_count": 20
        }
      ]
    },
    {
      "cell_type": "markdown",
      "metadata": {
        "id": "WC2CuSdpiidE"
      },
      "source": [
        "## K-Nearest Neighbors"
      ]
    },
    {
      "cell_type": "code",
      "metadata": {
        "id": "4VBh8MOPha_2"
      },
      "source": [
        "X = df.loc[:,df.columns != \"Sold\"]\n",
        "y = df[\"Sold\"]\n",
        "\n",
        "from sklearn.model_selection import train_test_split\n",
        "\n",
        "# train test split\n",
        "X_train, X_test, y_train, y_test = train_test_split(X, y, test_size=0.2, random_state=42)"
      ],
      "execution_count": 22,
      "outputs": []
    },
    {
      "cell_type": "code",
      "metadata": {
        "id": "0tfYhz-KGwEi"
      },
      "source": [
        "# Scaling the data\n",
        "from sklearn import preprocessing\n",
        "\n",
        "# fitting scaler object on X_train\n",
        "scaler = preprocessing.StandardScaler().fit(X_train)"
      ],
      "execution_count": 23,
      "outputs": []
    },
    {
      "cell_type": "code",
      "metadata": {
        "id": "5hYR_SzlH3mI"
      },
      "source": [
        "# transform the X_train and X_test using scaler object\n",
        "X_train_scaled = scaler.transform(X_train)\n",
        "X_test_scaled = scaler.transform(X_test)"
      ],
      "execution_count": 24,
      "outputs": []
    },
    {
      "cell_type": "code",
      "metadata": {
        "colab": {
          "base_uri": "https://localhost:8080/"
        },
        "id": "U5nzSQXhH9fx",
        "outputId": "4047680a-9a06-4af0-fc61-cc1b3fbd00e2"
      },
      "source": [
        "from sklearn.neighbors import KNeighborsClassifier\n",
        "\n",
        "clf_knn = KNeighborsClassifier(n_neighbors=3)\n",
        "\n",
        "clf_knn.fit(X_train_scaled,y_train)"
      ],
      "execution_count": 40,
      "outputs": [
        {
          "output_type": "execute_result",
          "data": {
            "text/plain": [
              "KNeighborsClassifier(algorithm='auto', leaf_size=30, metric='minkowski',\n",
              "                     metric_params=None, n_jobs=None, n_neighbors=3, p=2,\n",
              "                     weights='uniform')"
            ]
          },
          "metadata": {
            "tags": []
          },
          "execution_count": 40
        }
      ]
    },
    {
      "cell_type": "code",
      "metadata": {
        "colab": {
          "base_uri": "https://localhost:8080/"
        },
        "id": "lb03SsCUORdR",
        "outputId": "b47cc210-d75b-4ec8-d8bb-42332d59556e"
      },
      "source": [
        "from sklearn.metrics import confusion_matrix, accuracy_score\n",
        "\n",
        "# predict response using X_test_scaled data\n",
        "y_pred = clf_knn.predict(X_test_scaled)\n",
        "\n",
        "# confusion matrix\n",
        "confusion_matrix(y_test,y_pred)"
      ],
      "execution_count": 41,
      "outputs": [
        {
          "output_type": "execute_result",
          "data": {
            "text/plain": [
              "array([[34, 26],\n",
              "       [14, 28]])"
            ]
          },
          "metadata": {
            "tags": []
          },
          "execution_count": 41
        }
      ]
    },
    {
      "cell_type": "code",
      "metadata": {
        "colab": {
          "base_uri": "https://localhost:8080/"
        },
        "id": "6obnTMaXQIsF",
        "outputId": "15a25dc3-42e5-45aa-ca8a-278883ad6f50"
      },
      "source": [
        "# accuracy score\n",
        "accuracy_score(y_test,y_pred)"
      ],
      "execution_count": 42,
      "outputs": [
        {
          "output_type": "execute_result",
          "data": {
            "text/plain": [
              "0.6078431372549019"
            ]
          },
          "metadata": {
            "tags": []
          },
          "execution_count": 42
        }
      ]
    },
    {
      "cell_type": "markdown",
      "metadata": {
        "id": "o_RCj1IlSfu6"
      },
      "source": [
        "### GridSearchCv finding best n_neighbors"
      ]
    },
    {
      "cell_type": "code",
      "metadata": {
        "id": "btTP3HhaRnES"
      },
      "source": [
        "from sklearn.model_selection import GridSearchCV"
      ],
      "execution_count": 43,
      "outputs": []
    },
    {
      "cell_type": "code",
      "metadata": {
        "id": "EEC9CYHuS1vs"
      },
      "source": [
        "# dictionary of hyperparameter\n",
        "params = {\"n_neighbors\":np.arange(1,100)}\n",
        "\n",
        "grid_search_cv = GridSearchCV(estimator=KNeighborsClassifier(),param_grid=params,\n",
        "                              scoring=\"accuracy\",n_jobs=-1,return_train_score=True,verbose=1)"
      ],
      "execution_count": 62,
      "outputs": []
    },
    {
      "cell_type": "code",
      "metadata": {
        "colab": {
          "base_uri": "https://localhost:8080/"
        },
        "id": "rZS7JQosTcp_",
        "outputId": "7757c58f-3542-4b70-ed29-a4a55fa46346"
      },
      "source": [
        "# fitting grid_search_cv on X_train_scaled and y_train\n",
        "grid_search_cv.fit(X_train_scaled,y_train,)"
      ],
      "execution_count": 63,
      "outputs": [
        {
          "output_type": "stream",
          "text": [
            "Fitting 5 folds for each of 99 candidates, totalling 495 fits\n"
          ],
          "name": "stdout"
        },
        {
          "output_type": "stream",
          "text": [
            "[Parallel(n_jobs=-1)]: Using backend LokyBackend with 2 concurrent workers.\n",
            "[Parallel(n_jobs=-1)]: Done 164 tasks      | elapsed:    3.0s\n",
            "[Parallel(n_jobs=-1)]: Done 495 out of 495 | elapsed:    9.8s finished\n"
          ],
          "name": "stderr"
        },
        {
          "output_type": "execute_result",
          "data": {
            "text/plain": [
              "GridSearchCV(cv=None, error_score=nan,\n",
              "             estimator=KNeighborsClassifier(algorithm='auto', leaf_size=30,\n",
              "                                            metric='minkowski',\n",
              "                                            metric_params=None, n_jobs=None,\n",
              "                                            n_neighbors=5, p=2,\n",
              "                                            weights='uniform'),\n",
              "             iid='deprecated', n_jobs=-1,\n",
              "             param_grid={'n_neighbors': array([ 1,  2,  3,  4,  5,  6,  7,  8,  9, 10, 11, 12, 13, 14, 15, 16, 17,\n",
              "       18, 19, 20, 21, 22, 23, 24, 25, 26, 27, 28, 29, 30, 31, 32, 33, 34,\n",
              "       35, 36, 37, 38, 39, 40, 41, 42, 43, 44, 45, 46, 47, 48, 49, 50, 51,\n",
              "       52, 53, 54, 55, 56, 57, 58, 59, 60, 61, 62, 63, 64, 65, 66, 67, 68,\n",
              "       69, 70, 71, 72, 73, 74, 75, 76, 77, 78, 79, 80, 81, 82, 83, 84, 85,\n",
              "       86, 87, 88, 89, 90, 91, 92, 93, 94, 95, 96, 97, 98, 99])},\n",
              "             pre_dispatch='2*n_jobs', refit=True, return_train_score=True,\n",
              "             scoring='accuracy', verbose=1)"
            ]
          },
          "metadata": {
            "tags": []
          },
          "execution_count": 63
        }
      ]
    },
    {
      "cell_type": "code",
      "metadata": {
        "colab": {
          "base_uri": "https://localhost:8080/"
        },
        "id": "n_9nM4uzTkvs",
        "outputId": "fdcb3639-c74c-46cd-a375-40e37a7591c3"
      },
      "source": [
        "# best params of grid search\n",
        "grid_search_cv.best_params_"
      ],
      "execution_count": 64,
      "outputs": [
        {
          "output_type": "execute_result",
          "data": {
            "text/plain": [
              "{'n_neighbors': 95}"
            ]
          },
          "metadata": {
            "tags": []
          },
          "execution_count": 64
        }
      ]
    },
    {
      "cell_type": "code",
      "metadata": {
        "id": "aUTcaOnUTvu8"
      },
      "source": [
        "# getting best classifier from grid search\n",
        "best_clf_knn = grid_search_cv.best_estimator_"
      ],
      "execution_count": 65,
      "outputs": []
    },
    {
      "cell_type": "code",
      "metadata": {
        "id": "OgmesPtvUErQ"
      },
      "source": [
        "# predict X_test_scaled using best classifier\n",
        "y_pred = best_clf_knn.predict(X_test_scaled)"
      ],
      "execution_count": 66,
      "outputs": []
    },
    {
      "cell_type": "code",
      "metadata": {
        "colab": {
          "base_uri": "https://localhost:8080/"
        },
        "id": "hQdgelZEUPIQ",
        "outputId": "77ecf637-37f6-4af8-ceaf-a0627e5ed67d"
      },
      "source": [
        "# confusion matrix using best classifier\n",
        "confusion_matrix(y_test,y_pred)"
      ],
      "execution_count": 67,
      "outputs": [
        {
          "output_type": "execute_result",
          "data": {
            "text/plain": [
              "array([[38, 22],\n",
              "       [16, 26]])"
            ]
          },
          "metadata": {
            "tags": []
          },
          "execution_count": 67
        }
      ]
    },
    {
      "cell_type": "code",
      "metadata": {
        "colab": {
          "base_uri": "https://localhost:8080/"
        },
        "id": "BPcnzLBhUS9a",
        "outputId": "75108174-9d4b-44a6-8215-7737d9609d27"
      },
      "source": [
        "# accuracy score using best classifier\n",
        "accuracy_score(y_test,y_pred)"
      ],
      "execution_count": 68,
      "outputs": [
        {
          "output_type": "execute_result",
          "data": {
            "text/plain": [
              "0.6274509803921569"
            ]
          },
          "metadata": {
            "tags": []
          },
          "execution_count": 68
        }
      ]
    },
    {
      "cell_type": "code",
      "metadata": {
        "id": "_AkEM5ZnUXkM"
      },
      "source": [
        ""
      ],
      "execution_count": null,
      "outputs": []
    }
  ]
}
